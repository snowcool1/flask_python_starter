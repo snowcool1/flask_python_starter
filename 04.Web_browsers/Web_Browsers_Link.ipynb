{
 "cells": [
  {
   "cell_type": "markdown",
   "metadata": {},
   "source": [
    "# Web Nhạc Link"
   ]
  },
  {
   "cell_type": "code",
   "execution_count": 3,
   "metadata": {},
   "outputs": [
    {
     "data": {
      "text/plain": [
       "True"
      ]
     },
     "execution_count": 3,
     "metadata": {},
     "output_type": "execute_result"
    }
   ],
   "source": [
    "import webbrowser\n",
    "\n",
    "webbrowser.open('https://www.youtube.com/watch?v=cBClD7jylos') # Em gì ơi\n",
    "# webbrowser.open('https://www.youtube.com/watch?v=bI7xde9-3BI') # Sao em vô tình.\n",
    "# webbrowser.open('https://www.youtube.com/watch?v=lZ8Ru-hAg9s')  # Đây là 1 bài hát vui\n"
   ]
  },
  {
   "cell_type": "markdown",
   "metadata": {},
   "source": [
    "# Web Covid 19"
   ]
  },
  {
   "cell_type": "code",
   "execution_count": null,
   "metadata": {},
   "outputs": [],
   "source": [
    "import webbrowser\n",
    "\n",
    "# webbrowser.open('') #note'\n",
    "\n",
    "# webbrowser.open('https://www.worldometers.info/coronavirus/') # world status"
   ]
  },
  {
   "cell_type": "markdown",
   "metadata": {},
   "source": [
    "# Python Acadamy On Youtube"
   ]
  },
  {
   "cell_type": "code",
   "execution_count": 2,
   "metadata": {},
   "outputs": [
    {
     "data": {
      "text/plain": [
       "True"
      ]
     },
     "execution_count": 2,
     "metadata": {},
     "output_type": "execute_result"
    }
   ],
   "source": [
    "import webbrowser\n",
    "\n",
    "webbrowser.open('https://www.youtube.com/gjenkinslbcc') #note'\n",
    "\n",
    "# webbrowser.open('https://www.worldometers.info/coronavirus/') # world status"
   ]
  },
  {
   "cell_type": "markdown",
   "metadata": {},
   "source": [
    "# Class and Object"
   ]
  },
  {
   "cell_type": "code",
   "execution_count": 8,
   "metadata": {},
   "outputs": [
    {
     "name": "stdout",
     "output_type": "stream",
     "text": [
      "blank\n",
      "(3, 4)\n",
      "center\n",
      "(50, 100)\n",
      "100.0\n",
      "200.0\n",
      "grow\n",
      "150.0\n",
      "300.0\n"
     ]
    }
   ],
   "source": [
    "\"\"\"\n",
    "\n",
    "Code example from Think Python, by Allen B. Downey.\n",
    "Available from http://thinkpython.com\n",
    "\n",
    "Copyright 2012 Allen B. Downey.\n",
    "Distributed under the GNU General Public License at gnu.org/licenses/gpl.html.\n",
    "\n",
    "\"\"\"\n",
    "\n",
    "class Point(object):\n",
    "    \"\"\"Represents a point in 2-D space.\"\"\"\n",
    "\n",
    "\n",
    "def print_point(p):\n",
    "    \"\"\"Print a Point object in human-readable format.\"\"\"\n",
    "    print ('(%g, %g)' % (p.x, p.y))\n",
    "\n",
    "\n",
    "class Rectangle(object):\n",
    "    \"\"\"Represents a rectangle. \n",
    "\n",
    "    attributes: width, height, corner.\n",
    "    \"\"\"\n",
    "\n",
    "\n",
    "def find_center(rect):\n",
    "    \"\"\"Returns a Point at the center of a Rectangle.\"\"\"\n",
    "    p = Point()\n",
    "    p.x = rect.corner.x + rect.width/2.0\n",
    "    p.y = rect.corner.y + rect.height/2.0\n",
    "    return p\n",
    "\n",
    "\n",
    "def grow_rectangle(rect, dwidth, dheight):\n",
    "    \"\"\"Modify the Rectangle by adding to its width and height.\n",
    "\n",
    "    rect: Rectangle object.\n",
    "    dwidth: change in width (can be negative).\n",
    "    dheight: change in height (can be negative).\n",
    "    \"\"\"\n",
    "    rect.width += dwidth\n",
    "    rect.height += dheight\n",
    "\n",
    "\n",
    "def main():\n",
    "    blank = Point()\n",
    "    blank.x = 3\n",
    "    blank.y = 4\n",
    "    print ('blank'),\n",
    "    print_point(blank)\n",
    "\n",
    "    box = Rectangle()\n",
    "    box.width = 100.0\n",
    "    box.height = 200.0\n",
    "    box.corner = Point()\n",
    "    box.corner.x = 0.0\n",
    "    box.corner.y = 0.0\n",
    "\n",
    "    center = find_center(box)\n",
    "    print ('center',)\n",
    "    print_point(center)\n",
    "\n",
    "    print (box.width)\n",
    "    print (box.height)\n",
    "    print ('grow')\n",
    "    grow_rectangle(box, 50, 100)\n",
    "    print (box.width)\n",
    "    print (box.height)\n",
    "\n",
    "\n",
    "if __name__ == '__main__':\n",
    "    main()\n"
   ]
  },
  {
   "cell_type": "markdown",
   "metadata": {},
   "source": [
    "# Class and Function"
   ]
  },
  {
   "cell_type": "code",
   "execution_count": null,
   "metadata": {},
   "outputs": [],
   "source": [
    "\"\"\"\n",
    "\n",
    "Code example from Think Python, by Allen B. Downey.\n",
    "Available from http://thinkpython.com\n",
    "\n",
    "Copyright 2012 Allen B. Downey.\n",
    "Distributed under the GNU General Public License at gnu.org/licenses/gpl.html.\n",
    "\n",
    "\"\"\"\n",
    "\n",
    "class Time(object):\n",
    "    \"\"\"Represents the time of day.\n",
    "       \n",
    "    attributes: hour, minute, second\n",
    "    \"\"\"\n",
    "\n",
    "def print_time(t):\n",
    "    print ('%.2d:%.2d:%.2d' % (t.hour, t.minute, t.second))\n",
    "\n",
    "\n",
    "def int_to_time(seconds):\n",
    "    \"\"\"Makes a new Time object.\n",
    "\n",
    "    seconds: int seconds since midnight.\n",
    "    \"\"\"\n",
    "    time = Time()\n",
    "    minutes, time.second = divmod(seconds, 60)\n",
    "    time.hour, time.minute = divmod(minutes, 60)\n",
    "    return time\n",
    "\n",
    "\n",
    "def time_to_int(time):\n",
    "    \"\"\"Computes the number of seconds since midnight.\n",
    "\n",
    "    time: Time object.\n",
    "    \"\"\"\n",
    "    minutes = time.hour * 60 + time.minute\n",
    "    seconds = minutes * 60 + time.second\n",
    "    return seconds\n",
    "\n",
    "\n",
    "def add_times(t1, t2):\n",
    "    \"\"\"Adds two time objects.\"\"\"\n",
    "    assert valid_time(t1) and valid_time(t2)\n",
    "    seconds = time_to_int(t1) + time_to_int(t2)\n",
    "    return int_to_time(seconds)\n",
    "\n",
    "\n",
    "def valid_time(time):\n",
    "    \"\"\"Checks whether a Time object satisfies the invariants.\"\"\"\n",
    "    if time.hour < 0 or time.minute < 0 or time.second < 0:\n",
    "        return False\n",
    "    if time.minute >= 60 or time.second >= 60:\n",
    "        return False\n",
    "    return True\n",
    "\n",
    "\n",
    "def main():\n",
    "    # if a movie starts at noon...\n",
    "    noon_time = Time()\n",
    "    noon_time.hour = 12\n",
    "    noon_time.minute = 0\n",
    "    noon_time.second = 0\n",
    "\n",
    "    print 'Starts at',\n",
    "    print_time(noon_time)\n",
    "\n",
    "    # and the run time of the movie is 109 minutes...\n",
    "    movie_minutes = 109\n",
    "    run_time = int_to_time(movie_minutes * 60)\n",
    "    print 'Run time',\n",
    "    print_time(run_time)\n",
    "\n",
    "    # what time does the movie end?\n",
    "    end_time = add_times(noon_time, run_time)\n",
    "    print 'Ends at',\n",
    "    print_time(end_time)\n",
    "\n",
    "if __name__ == '__main__':\n",
    "    main()"
   ]
  },
  {
   "cell_type": "markdown",
   "metadata": {},
   "source": [
    "# Class and Method"
   ]
  },
  {
   "cell_type": "code",
   "execution_count": 15,
   "metadata": {},
   "outputs": [
    {
     "name": "stdout",
     "output_type": "stream",
     "text": [
      "In ra  09:45:00\n",
      "In ra  10:07:17\n",
      "Is end after start?\n",
      "True\n",
      "Using __str__\n",
      "09:45:00 10:07:17\n",
      "11:20:00\n",
      "10:07:17\n",
      "10:07:17\n",
      "Example of polymorphism\n",
      "23:01:00\n"
     ]
    }
   ],
   "source": [
    "\"\"\"\n",
    "\n",
    "Code example from Think Python, by Allen B. Downey.\n",
    "Available from http://thinkpython.com\n",
    "\n",
    "Copyright 2012 Allen B. Downey.\n",
    "Distributed under the GNU General Public License at gnu.org/licenses/gpl.html.\n",
    "\n",
    "\"\"\"\n",
    "\n",
    "class Time(object):\n",
    "    \"\"\"Represents the time of day.\n",
    "       \n",
    "    attributes: hour, minute, second\n",
    "    \"\"\"\n",
    "    def __init__(self, hour=0, minute=0, second=0):\n",
    "        self.hour = hour\n",
    "        self.minute = minute\n",
    "        self.second = second\n",
    "\n",
    "    def __str__(self):\n",
    "        return '%.2d:%.2d:%.2d' % (self.hour, self.minute, self.second)\n",
    "\n",
    "    def print_time(self):\n",
    "        print ('In ra ',str(self))\n",
    "\n",
    "    def time_to_int(self):\n",
    "        \"\"\"Computes the number of seconds since midnight.\"\"\"\n",
    "        minutes = self.hour * 60 + self.minute\n",
    "        seconds = minutes * 60 + self.second\n",
    "        return seconds\n",
    "\n",
    "    def is_after(self, other):\n",
    "        \"\"\"Returns True if t1 is after t2; false otherwise.\"\"\"\n",
    "        return self.time_to_int() > other.time_to_int()\n",
    "\n",
    "    def __add__(self, other):\n",
    "        \"\"\"Adds two Time objects or a Time object and a number.\n",
    "\n",
    "        other: Time object or number of seconds\n",
    "        \"\"\"\n",
    "        if isinstance(other, Time):\n",
    "            return self.add_time(other)\n",
    "        else:\n",
    "            return self.increment(other)\n",
    "\n",
    "    def __radd__(self, other):\n",
    "        \"\"\"Adds two Time objects or a Time object and a number.\"\"\"\n",
    "        return self.__add__(other)\n",
    "\n",
    "    def add_time(self, other):\n",
    "        \"\"\"Adds two time objects.\"\"\"\n",
    "        assert self.is_valid() and other.is_valid()\n",
    "        seconds = self.time_to_int() + other.time_to_int()\n",
    "        return int_to_time(seconds)\n",
    "\n",
    "    def increment(self, seconds):\n",
    "        \"\"\"Returns a new Time that is the sum of this time and seconds.\"\"\"\n",
    "        seconds += self.time_to_int()\n",
    "        return int_to_time(seconds)\n",
    "\n",
    "    def is_valid(self):\n",
    "        \"\"\"Checks whether a Time object satisfies the invariants.\"\"\"\n",
    "        if self.hour < 0 or self.minute < 0 or self.second < 0:\n",
    "            return False\n",
    "        if self.minute >= 60 or self.second >= 60:\n",
    "            return False\n",
    "        return True\n",
    "\n",
    "\n",
    "def int_to_time(seconds):\n",
    "    \"\"\"Makes a new Time object.\n",
    "\n",
    "    seconds: int seconds since midnight.\n",
    "    \"\"\"\n",
    "    minutes, second = divmod(seconds, 60)\n",
    "    hour, minute = divmod(minutes, 60)\n",
    "    time = Time(hour, minute, second)\n",
    "    return time\n",
    "\n",
    "\n",
    "def main():\n",
    "    start = Time(9, 45, 00)\n",
    "    start.print_time()\n",
    "\n",
    "    end = start.increment(1337)\n",
    "    end.print_time()\n",
    "\n",
    "    print ('Is end after start?',)\n",
    "    print (end.is_after(start))\n",
    "\n",
    "    print (('Using __str__'))\n",
    "    print (start, end)\n",
    "\n",
    "    start = Time(9, 45)\n",
    "    duration = Time(1, 35)\n",
    "    print (start + duration)\n",
    "    print (start + 1337)\n",
    "    print (1337 + start)\n",
    "\n",
    "    print ('Example of polymorphism')\n",
    "    t1 = Time(7, 43)\n",
    "    t2 = Time(7, 41)\n",
    "    t3 = Time(7, 37)\n",
    "    total = sum([t1, t2, t3])\n",
    "    print (total)\n",
    "\n",
    "\n",
    "if __name__ == '__main__':\n",
    "    main()"
   ]
  }
 ],
 "metadata": {
  "kernelspec": {
   "display_name": "Python 3",
   "language": "python",
   "name": "python3"
  },
  "language_info": {
   "codemirror_mode": {
    "name": "ipython",
    "version": 3
   },
   "file_extension": ".py",
   "mimetype": "text/x-python",
   "name": "python",
   "nbconvert_exporter": "python",
   "pygments_lexer": "ipython3",
   "version": "3.7.4"
  },
  "toc": {
   "base_numbering": 1,
   "nav_menu": {},
   "number_sections": true,
   "sideBar": true,
   "skip_h1_title": false,
   "title_cell": "Table of Contents",
   "title_sidebar": "Contents",
   "toc_cell": false,
   "toc_position": {
    "height": "calc(100% - 180px)",
    "left": "10px",
    "top": "150px",
    "width": "176.667px"
   },
   "toc_section_display": true,
   "toc_window_display": true
  }
 },
 "nbformat": 4,
 "nbformat_minor": 2
}
