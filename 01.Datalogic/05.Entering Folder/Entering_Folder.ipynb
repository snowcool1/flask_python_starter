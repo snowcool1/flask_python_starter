{
 "cells": [
  {
   "cell_type": "markdown",
   "metadata": {},
   "source": [
    "- Delete file image .BMP\n",
    "1. Login PC\n",
    "2. Auto search folder name with format: Month-Year\n",
    "3. Function: delete extention.BMP."
   ]
  },
  {
   "cell_type": "code",
   "execution_count": 11,
   "metadata": {},
   "outputs": [],
   "source": [
    "import os\n",
    "import sys\n",
    "import getpass\n",
    "import shutil, os\n",
    "import datetime\n",
    "\n",
    "\n",
    "import os\n",
    "\n",
    "\n",
    "#         test = os.listdir(dirItem)\n",
    "#         for item in test:\n",
    "#             if item.endswith(\".BMP\"):\n",
    "                \n",
    "#                 os.remove(os.path.join(dirItem,item))\n",
    "\n",
    "#------------------------------------- OK For test-------------               \n",
    "                \n",
    "# link =  fr\"//vnmacsdb/bformats/GD45xx\"\n",
    "# for test in link:\n",
    "#         test = os.listdir(link)\n",
    "# print(test)\n"
   ]
  },
  {
   "cell_type": "code",
   "execution_count": 13,
   "metadata": {},
   "outputs": [
    {
     "name": "stdout",
     "output_type": "stream",
     "text": [
      "DL0312CF77\n",
      "net use \"\\\\DL0312CF77\\C$\" stark300 /user:dl\\fixture\n",
      "The command completed successfully.\n",
      "\n",
      "DL0312CF77\n",
      "net use \"\\\\DL0312CF77\\C$\" stark300 /user:dl\\fixture\n"
     ]
    },
    {
     "name": "stderr",
     "output_type": "stream",
     "text": [
      "System error 1219 has occurred.\n",
      "\n",
      "Multiple connections to a server or shared resource by the same user, using more than one user name, are not allowed. Disconnect all previous connections to the server or shared resource and try again.\n",
      "\n"
     ]
    },
    {
     "name": "stdout",
     "output_type": "stream",
     "text": [
      "The command completed successfully.\n",
      "\n",
      "None\n"
     ]
    },
    {
     "name": "stderr",
     "output_type": "stream",
     "text": [
      "System error 1219 has occurred.\n",
      "\n",
      "Multiple connections to a server or shared resource by the same user, using more than one user name, are not allowed. Disconnect all previous connections to the server or shared resource and try again.\n",
      "\n"
     ]
    }
   ],
   "source": [
    "import os\n",
    "import sys\n",
    "import getpass\n",
    "import shutil, os\n",
    "import datetime\n",
    "# dt = datetime.datetime.today()\n",
    "# folder_day=str(f\"{dt:%d}\")\n",
    "# folder_month=str(f\"{dt:%m}\")\n",
    "# folder_year=str(dt.year)\n",
    "# format_folder=str(folder_year+'-'+folder_month)\n",
    "# print(format_folder)\n",
    "\n",
    "\n",
    "mylist=[\"DL0312CF77\", \"DL0312CF74\"]\n",
    "def grant_access(mylist):\n",
    "    for i  in range(len(mylist)):\n",
    "        print(mylist[i])\n",
    "        try:\n",
    "            command= fr'net use \"\\\\{mylist[i]}\\C$\" stark300 /user:dl\\fixture'\n",
    "#             command= fr'net use \"\\\\{mylist[i]}\\D$\" 6Turtl3$ /user:{mylist[i]}\\Administrator'\n",
    "            print(command)\n",
    "            !{command}\n",
    "        except:\n",
    "            command= fr'net use \"\\\\{mylist[i]}\\C$\" Prod1234 /user:dl\\production'\n",
    "#             print(command)\n",
    "            !{command}\n",
    "        else:\n",
    "             command= fr'net use \"\\\\{mylist[i]}\\C$\" 6Turtl3$ /user:{mylist[i]}\\Administrator'\n",
    " #            print(command)\n",
    "             !{command}\n",
    "  #          pass\n",
    "\n",
    "grant_access(mylist)\n",
    "# print(grant_access(mylist))\n",
    "\n",
    "def delete_extension_func():\n",
    "    dir_name1 = f\"//DL0312CF77/C$/idpmdc/SAPME/Old/\"\n",
    "    dir_name2 = f\"//DL0312CF77/C$/idpmdc/SAPME/Old/\"\n",
    "#     dir_name3 =  fr\"//vnmacsdb/bformats/GD45xx\"\n",
    "#     print(dir_name1)\n",
    "#     print(dir_name2)\n",
    "\n",
    "    dir_list =[dir_name1, dir_name2,dir_name3]\n",
    "    \n",
    "    \n",
    "    for dirItem in dir_list:\n",
    "#         print(dirItem)"
   ]
  },
  {
   "cell_type": "code",
   "execution_count": null,
   "metadata": {},
   "outputs": [],
   "source": []
  }
 ],
 "metadata": {
  "kernelspec": {
   "display_name": "Python 3",
   "language": "python",
   "name": "python3"
  },
  "language_info": {
   "codemirror_mode": {
    "name": "ipython",
    "version": 3
   },
   "file_extension": ".py",
   "mimetype": "text/x-python",
   "name": "python",
   "nbconvert_exporter": "python",
   "pygments_lexer": "ipython3",
   "version": "3.7.4"
  },
  "toc": {
   "base_numbering": 1,
   "nav_menu": {},
   "number_sections": true,
   "sideBar": true,
   "skip_h1_title": false,
   "title_cell": "Table of Contents",
   "title_sidebar": "Contents",
   "toc_cell": false,
   "toc_position": {},
   "toc_section_display": true,
   "toc_window_display": false
  }
 },
 "nbformat": 4,
 "nbformat_minor": 4
}
