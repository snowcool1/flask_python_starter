{
 "cells": [
  {
   "cell_type": "markdown",
   "metadata": {},
   "source": [
    "Delete MES Loci & Update Loci when Release MES but use ACS"
   ]
  },
  {
   "cell_type": "code",
   "execution_count": 66,
   "metadata": {},
   "outputs": [
    {
     "name": "stdout",
     "output_type": "stream",
     "text": [
      "PO là: 000101176640\n"
     ]
    }
   ],
   "source": [
    "### Connect server:\n",
    "import numpy as np  # Số\n",
    "import pandas as pd # Data wrangling, Data Frame.\n",
    "import streamlit as st\n",
    "import pyodbc\n",
    "import subprocess\n",
    "import os \n",
    "\n",
    "PO_input = '000' + '101375577'\n",
    "print('PO là:', PO_input)\n",
    "Model_input = 'GD4410-BKK10S-C429'\n",
    "MESControlled = '0'\n",
    "\n",
    "\n",
    "\n",
    "# Model_input =st.text_input('Model Input','Input model here !!!')\n",
    "#-------------Connection Section-------------------\n",
    "\n",
    "\n",
    "def conn_vnmacsdb():\n",
    "    conn = pyodbc.connect('DRIVER={ODBC Driver 17 for SQL Server};SERVER=vnmacsdb;DATABASE=ACSEEState;UID=reports;PWD=reports')\n",
    "    conn1 = pyodbc.connect('DRIVER={ODBC Driver 17 for SQL Server};SERVER=vnmacsdb;DATABASE=acs ee;UID=reports;PWD=reports')\n",
    "    cursor = conn.cursor()\n",
    "    cursor_acsee = conn1.cursor()\n",
    "    #     conn_vnmacsdb()\n",
    "    \n",
    "############Xử lý SQL bằng python: Delete Loci & Delete TFFCserials ***************************************\n",
    "    \n",
    "    cursor.execute(fr\"Delete loci where ProdOrder ='{PO_input}' and SAP_Model = '{Model_input}' and  ACS_Serial = PSC_Serial\")\n",
    "    cursor.commit()\n",
    "\n",
    "    cursor_acsee.execute(fr\"Delete TFFC_SerialNumbers where TFFC_ProdOrder ='{PO_input}' and TFFC_Material = '{Model_input}'\")\n",
    "    cursor_acsee.commit()\n",
    "\n",
    "############**************Update Loci & LociB in server****************************\n",
    "    cursor.execute(fr\"SELECT * FROM ACSEEState.dbo.Loci\")\n",
    "    cursor.execute(fr\"UPDATE ACSEEState.dbo.Loci set MESControlled ='{MESControlled}' where SAP_Model = '{Model_input}' and ProdOrder ='{PO_input}'\")\n",
    "    conn.commit()\n",
    "    cursor.execute(fr\"SELECT * FROM ACSEEState.dbo.LociB\")\n",
    "    cursor.execute(fr\"UPDATE ACSEEState.dbo.LociB set MESControlled ='{MESControlled}' where SAP_Model = '{Model_input}' and ProdOrder ='{PO_input}'\")\n",
    "    conn.commit()\n",
    "    \n",
    "    \n",
    "##################Test SLQ Connection:######################   TEst ACSEEState**************\n",
    "    sql_loci=fr\"SELECT TOP 200 * FROM Loci where ProdOrder ='{PO_input}' and SAP_Model = '{Model_input}'\" # and  ACS_Serial = PSC_Serial\n",
    "    data_loci = pd.read_sql(sql_loci,conn)\n",
    "#     print(data_loci)\n",
    "\n",
    "\n",
    "################################## Test ACS EE ********\n",
    "#     sql_testlog='SELECT top 10 * FROM TFFC_SerialNumbers'  #order by test_date_time desc\n",
    "#     data_testlog=pd.read_sql(sql_testlog,conn1)\n",
    "#     print(data_testlog)\n",
    "\n",
    "\n",
    "#     print(cursor)\n",
    "#     print(sql)\n",
    "    \n",
    "############### Launch SQL\n",
    "#     sql_deleteloci = \"Delete loci where SAP_Model = '{Model_input}' and ProdOrder ='{PO_input}' and  ACS_Serial = PSC_Serial\"\n",
    "#Step 2: update Loci set MESControlled ='0' where ProdOrder ='{PO_input}' and SAP_Model = '{Model_input}'\n",
    "#Step 3: update LociB set MESControlled ='0' where ProdOrder ='{PO_input}' and SAP_Model = '{Model_input}'\n",
    "#Step 4: delete [TFFC_SerialNumbers] where TFFC_ProdOrder ='{PO_input}' and TFFC_Material ='{Model_input}'\n",
    "#     sql_dlt = pd.read_sql(sql_deleteloci,conn)\n",
    "#     sql_del_loci.execute()\n",
    "    \n",
    "conn_vnmacsdb()\n"
   ]
  },
  {
   "cell_type": "code",
   "execution_count": null,
   "metadata": {},
   "outputs": [],
   "source": []
  },
  {
   "cell_type": "code",
   "execution_count": 44,
   "metadata": {},
   "outputs": [],
   "source": [
    "    \n"
   ]
  },
  {
   "cell_type": "code",
   "execution_count": null,
   "metadata": {},
   "outputs": [],
   "source": []
  },
  {
   "cell_type": "code",
   "execution_count": null,
   "metadata": {},
   "outputs": [],
   "source": [
    "\n",
    "\n",
    "#SELECT TOP 10 *  FROM ACS EE \n",
    "#SELECT TOP 10 * FROM ACSEEState\n",
    "# SELECT TOP 10 * from loci  where SAP_Model = 'GD4520' and ProdOrder ='000101360954' and  ACS_Serial = PSC_Serial\n",
    "\n",
    "#Step 1: Delete loci where SAP_Model = 'GD4520' and ProdOrder ='000101360954' and  ACS_Serial = PSC_Serial\n",
    "#Step 2: update Loci set MESControlled ='0' where ProdOrder ='000101365423' and SAP_Model = ''\n",
    "#Step 3: update LociB set MESControlled ='0' where ProdOrder ='000101365423' and SAP_Model = ''\n",
    "#Step 4: delete [TFFC_SerialNumbers] where TFFC_ProdOrder ='000101365423' and TFFC_Material =''\n",
    "\n",
    "  \n"
   ]
  }
 ],
 "metadata": {
  "kernelspec": {
   "display_name": "Python 3",
   "language": "python",
   "name": "python3"
  },
  "language_info": {
   "codemirror_mode": {
    "name": "ipython",
    "version": 3
   },
   "file_extension": ".py",
   "mimetype": "text/x-python",
   "name": "python",
   "nbconvert_exporter": "python",
   "pygments_lexer": "ipython3",
   "version": "3.7.4"
  },
  "toc": {
   "base_numbering": 1,
   "nav_menu": {},
   "number_sections": true,
   "sideBar": true,
   "skip_h1_title": false,
   "title_cell": "Table of Contents",
   "title_sidebar": "Contents",
   "toc_cell": false,
   "toc_position": {},
   "toc_section_display": true,
   "toc_window_display": false
  }
 },
 "nbformat": 4,
 "nbformat_minor": 2
}
