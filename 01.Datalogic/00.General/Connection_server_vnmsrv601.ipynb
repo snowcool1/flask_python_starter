{
 "cells": [
  {
   "cell_type": "markdown",
   "metadata": {},
   "source": [
    "Connection_server_vnmsrv601\n",
    "1. Kết Nối server vnmsrv601.\n",
    "2. Kiểm tra có tồn tại tên của 1 biến trong table đó.\n",
    "3. Kiểm tra và xuất ra 1 file.txt\n"
   ]
  },
  {
   "cell_type": "code",
   "execution_count": 12,
   "metadata": {},
   "outputs": [
    {
     "name": "stdout",
     "output_type": "stream",
     "text": [
      "SELECT top 10 * FROM Doan_LabelcodeFruPP where Model = '90ACC0291'\n",
      "so dong data co  1\n",
      "            Family                           Model  \\\n",
      "0  FRU-MGL9X        90ACC0291                        \n",
      "\n",
      "                                                 Des Characteristic PPorBuild  \\\n",
      "0  ACCESSORY,ALDI,BRACKET,85XT TO M94            ...      None          PP      \n",
      "\n",
      "  Irregular  \n",
      "0      None  \n",
      "0    ACCESSORY,ALDI,BRACKET,85XT TO M94            ...\n",
      "Name: Des, dtype: object\n"
     ]
    }
   ],
   "source": [
    "import pyodbc \n",
    "import numpy as np\n",
    "import pandas as pd\n",
    "conn = pyodbc.connect('DRIVER={ODBC Driver 17 for SQL Server};SERVER=vnmsrv601.dl.net\\Siplace_2008R2EX;DATABASE=yRecTrack;UID=Sa;PWD=Siplace.1')\n",
    "model ='90ACC0291'\n",
    "\n",
    "sql=f\"SELECT top 10 * FROM Doan_LabelcodeFruPP where Model = '{model}'\"\n",
    "print(sql)\n",
    "df=pd.read_sql(sql,conn)\n",
    "print('so dong data co ',len(df))\n",
    "print(df.head())\n",
    "\n",
    "ten_mota=df\n",
    "print(ten_mota)\n",
    "    "
   ]
  },
  {
   "cell_type": "code",
   "execution_count": 16,
   "metadata": {},
   "outputs": [
    {
     "name": "stdout",
     "output_type": "stream",
     "text": [
      "Des    ACCESSORY,ALDI,BRACKET,85XT TO M94            ...\n",
      "Name: 0, dtype: object\n"
     ]
    }
   ],
   "source": [
    "print(df.loc[0,[\"Des\"]])"
   ]
  },
  {
   "cell_type": "code",
   "execution_count": 33,
   "metadata": {},
   "outputs": [
    {
     "name": "stdout",
     "output_type": "stream",
     "text": [
      "Collecting bartender\n",
      "  Downloading https://files.pythonhosted.org/packages/57/29/5b573a7e373378196b7d1acf8f5521433b4584eb79eca55a6819b09136e0/bartender-2.4.6-py2.py3-none-any.whl (40kB)\n",
      "Collecting brewtils>=2.4.0 (from bartender)\n",
      "  Downloading https://files.pythonhosted.org/packages/ed/ce/9d3a8067481605b541dd2052b6d5f41a616957a4fe93938e7457437972b2/brewtils-2.4.11-py2.py3-none-any.whl (64kB)\n",
      "Collecting bg-utils>=2.4.4 (from bartender)\n",
      "  Downloading https://files.pythonhosted.org/packages/aa/83/8bd0f4a6209198455df0046ace06db69f6f3e9a9217d5f49a3bda2216d45/bg_utils-2.4.9-py2.py3-none-any.whl\n",
      "Collecting pyrabbit2==1.0.7 (from bartender)\n",
      "  Downloading https://files.pythonhosted.org/packages/d2/38/e5de737bc5a1b556ed4f3086f14eceb4b62c637957907c0d37df6585a112/pyrabbit2-1.0.7-py3-none-any.whl\n",
      "Requirement already satisfied: packaging<20 in d:\\03_anaconda3\\lib\\site-packages (from brewtils>=2.4.0->bartender) (19.2)\n",
      "Collecting marshmallow-polyfield<4 (from brewtils>=2.4.0->bartender)\n",
      "  Downloading https://files.pythonhosted.org/packages/fa/ba/6406b8cce3e42b2838d234310c3605627083bbb8f71dcc312c616480fe92/marshmallow_polyfield-3.2-py2.py3-none-any.whl\n",
      "Collecting pika<=1.1,>=0.11 (from brewtils>=2.4.0->bartender)\n",
      "  Downloading https://files.pythonhosted.org/packages/a1/ae/8bedf0e9f1c0c5d046db3a7428a4227fe36ec1b8e25607f3c38ac9bf513c/pika-1.1.0-py2.py3-none-any.whl (148kB)\n",
      "Collecting simplejson<4 (from brewtils>=2.4.0->bartender)\n",
      "  Downloading https://files.pythonhosted.org/packages/36/59/e8433d95e0683a045060a020624dec653499df73726359d68d567869cbac/simplejson-3.17.0-cp37-cp37m-win_amd64.whl (73kB)\n",
      "Collecting pyjwt<2 (from brewtils>=2.4.0->bartender)\n",
      "  Downloading https://files.pythonhosted.org/packages/87/8b/6a9f14b5f781697e51259d81657e6048fd31a113229cf346880bb7545565/PyJWT-1.7.1-py2.py3-none-any.whl\n",
      "Requirement already satisfied: wrapt<2 in d:\\03_anaconda3\\lib\\site-packages (from brewtils>=2.4.0->bartender) (1.11.2)\n",
      "Requirement already satisfied: six<2 in d:\\03_anaconda3\\lib\\site-packages (from brewtils>=2.4.0->bartender) (1.12.0)\n",
      "Requirement already satisfied: requests<3 in d:\\03_anaconda3\\lib\\site-packages (from brewtils>=2.4.0->bartender) (2.22.0)\n",
      "Collecting yapconf>=0.2.1 (from brewtils>=2.4.0->bartender)\n",
      "  Downloading https://files.pythonhosted.org/packages/a7/a6/d46306e31364f6c05eb3e3458cd4d8c271a9c5360438e63923d369cf3cf9/yapconf-0.3.7-py2.py3-none-any.whl\n",
      "Collecting lark-parser<0.7 (from brewtils>=2.4.0->bartender)\n",
      "  Downloading https://files.pythonhosted.org/packages/71/82/b8367a9800f341bf0fed047d180da45d4bc3d5e61b753d1f809d9fd27553/lark-parser-0.6.7.tar.gz (260kB)\n",
      "Collecting marshmallow<3 (from brewtils>=2.4.0->bartender)\n",
      "  Downloading https://files.pythonhosted.org/packages/e3/07/c7a12d21619abeedf5fca7381f4cf3fa798a26e8d92ad66bc73f5fc58fc1/marshmallow-2.20.5-py2.py3-none-any.whl (50kB)\n",
      "Collecting thriftpy2<0.5 (from bg-utils>=2.4.4->bartender)\n",
      "  Downloading https://files.pythonhosted.org/packages/78/9b/f415dc3b1a17d52a0dbfe311f1c3250469ad219a0bdb506eb8050245c8d4/thriftpy2-0.4.10.tar.gz (301kB)\n",
      "Collecting ruamel.yaml<0.16 (from bg-utils>=2.4.4->bartender)\n",
      "  Downloading https://files.pythonhosted.org/packages/f8/c0/2d589e20427441ed22adb896ea4edb2485dc2a37b2d711461df470d35807/ruamel.yaml-0.15.100-cp37-cp37m-win_amd64.whl (225kB)\n",
      "Collecting pytz<2019 (from bg-utils>=2.4.4->bartender)\n",
      "  Downloading https://files.pythonhosted.org/packages/61/28/1d3920e4d1d50b19bc5d24398a7cd85cc7b9a75a490570d5a30c57622d34/pytz-2018.9-py2.py3-none-any.whl (510kB)\n",
      "Collecting mongoengine<0.16 (from bg-utils>=2.4.4->bartender)\n",
      "  Downloading https://files.pythonhosted.org/packages/32/d0/74628eaa7839cd35cd68fdab69f76ee0807652996c668354308d61558d38/mongoengine-0.15.3.tar.gz (145kB)\n",
      "Collecting passlib<1.8 (from bg-utils>=2.4.4->bartender)\n",
      "  Downloading https://files.pythonhosted.org/packages/11/b8/e9a78f3033228013ba8564adad8d0031bf9d39ea3acc3cdb9d55fabeb4ba/passlib-1.7.2-py2.py3-none-any.whl (507kB)\n",
      "Requirement already satisfied: pyparsing>=2.0.2 in d:\\03_anaconda3\\lib\\site-packages (from packaging<20->brewtils>=2.4.0->bartender) (2.4.2)\n",
      "Requirement already satisfied: certifi>=2017.4.17 in d:\\03_anaconda3\\lib\\site-packages (from requests<3->brewtils>=2.4.0->bartender) (2019.9.11)\n",
      "Requirement already satisfied: chardet<3.1.0,>=3.0.2 in d:\\03_anaconda3\\lib\\site-packages (from requests<3->brewtils>=2.4.0->bartender) (3.0.4)\n",
      "Requirement already satisfied: idna<2.9,>=2.5 in d:\\03_anaconda3\\lib\\site-packages (from requests<3->brewtils>=2.4.0->bartender) (2.8)\n",
      "Requirement already satisfied: urllib3!=1.25.0,!=1.25.1,<1.26,>=1.21.1 in d:\\03_anaconda3\\lib\\site-packages (from requests<3->brewtils>=2.4.0->bartender) (1.24.2)\n",
      "Collecting watchdog<1 (from yapconf>=0.2.1->brewtils>=2.4.0->bartender)\n",
      "  Downloading https://files.pythonhosted.org/packages/bb/e3/5a55d48a29300160779f0a0d2776d17c1b762a2039b36de528b093b87d5b/watchdog-0.9.0.tar.gz (85kB)\n",
      "Collecting python-box<4 (from yapconf>=0.2.1->brewtils>=2.4.0->bartender)\n",
      "  Downloading https://files.pythonhosted.org/packages/7e/97/a8471260a7132345037804b0f2408b1dba9a7b8a58011b9f3ea3ab5e0f1d/python_box-3.4.6-py2.py3-none-any.whl\n",
      "Requirement already satisfied: ply<4.0,>=3.4 in d:\\03_anaconda3\\lib\\site-packages (from thriftpy2<0.5->bg-utils>=2.4.4->bartender) (3.11)\n",
      "Collecting pymongo>=2.7.1 (from mongoengine<0.16->bg-utils>=2.4.4->bartender)\n",
      "  Downloading https://files.pythonhosted.org/packages/f8/dd/922ba69a1bafe2e2cfa46c06483cedab01ea7b76c7c3109ba62f430b0dcc/pymongo-3.10.0-cp37-cp37m-win_amd64.whl (354kB)\n",
      "Requirement already satisfied: PyYAML>=3.10 in d:\\03_anaconda3\\lib\\site-packages (from watchdog<1->yapconf>=0.2.1->brewtils>=2.4.0->bartender) (5.1.2)\n",
      "Collecting argh>=0.24.1 (from watchdog<1->yapconf>=0.2.1->brewtils>=2.4.0->bartender)\n",
      "  Downloading https://files.pythonhosted.org/packages/06/1c/e667a7126f0b84aaa1c56844337bf0ac12445d1beb9c8a6199a7314944bf/argh-0.26.2-py2.py3-none-any.whl\n",
      "Collecting pathtools>=0.1.1 (from watchdog<1->yapconf>=0.2.1->brewtils>=2.4.0->bartender)\n",
      "  Downloading https://files.pythonhosted.org/packages/e7/7f/470d6fcdf23f9f3518f6b0b76be9df16dcc8630ad409947f8be2eb0ed13a/pathtools-0.1.2.tar.gz\n",
      "Building wheels for collected packages: lark-parser, thriftpy2, mongoengine, watchdog, pathtools\n",
      "  Building wheel for lark-parser (setup.py): started\n",
      "  Building wheel for lark-parser (setup.py): finished with status 'done'\n",
      "  Created wheel for lark-parser: filename=lark_parser-0.6.7-py2.py3-none-any.whl size=53526 sha256=7dfb40449369c82924be93c0498fb07a9fae975858b9c9148a492157c3f658bd\n",
      "  Stored in directory: C:\\Users\\dhnguyen\\AppData\\Local\\pip\\Cache\\wheels\\3b\\b3\\87\\6fef5d5a46f4db93f6e4e5086304359949f4132a4c3218b051\n",
      "  Building wheel for thriftpy2 (setup.py): started\n",
      "  Building wheel for thriftpy2 (setup.py): finished with status 'done'\n",
      "  Created wheel for thriftpy2: filename=thriftpy2-0.4.10-py2.py3-none-any.whl size=318311 sha256=ad0632089f2d34a3f2e2ab2e7c050a7043dc82b5fe8887c295fa4757028ee2d9\n",
      "  Stored in directory: C:\\Users\\dhnguyen\\AppData\\Local\\pip\\Cache\\wheels\\4c\\ce\\d1\\710c5210049505afcce50112db350a76cd481a1575e832d79a\n",
      "  Building wheel for mongoengine (setup.py): started\n",
      "  Building wheel for mongoengine (setup.py): finished with status 'done'\n",
      "  Created wheel for mongoengine: filename=mongoengine-0.15.3-cp37-none-any.whl size=101403 sha256=d57b007c0dff0397eb66b87a5f75b2d0a6adaa9ce1e634e6e5a47c336f642186\n",
      "  Stored in directory: C:\\Users\\dhnguyen\\AppData\\Local\\pip\\Cache\\wheels\\e5\\05\\74\\882e63080930dbd5d0a8b18ca4d317c64af57c5696dd3c77e4\n",
      "  Building wheel for watchdog (setup.py): started\n",
      "  Building wheel for watchdog (setup.py): finished with status 'done'\n",
      "  Created wheel for watchdog: filename=watchdog-0.9.0-cp37-none-any.whl size=73657 sha256=0cfbe4dae8a6c48cc122bdba668e2e3645def2f0b830baf4ce6a839da96ea5e1\n",
      "  Stored in directory: C:\\Users\\dhnguyen\\AppData\\Local\\pip\\Cache\\wheels\\61\\1d\\d0\\04cfe495619be2095eb8d89a31c42adb4e42b76495bc8f784c\n",
      "  Building wheel for pathtools (setup.py): started\n",
      "  Building wheel for pathtools (setup.py): finished with status 'done'\n",
      "  Created wheel for pathtools: filename=pathtools-0.1.2-cp37-none-any.whl size=8793 sha256=0a93ebb5b5a6b824cf1633aabd1f6454462924bbd1a961779525e6f7935f978a\n",
      "  Stored in directory: C:\\Users\\dhnguyen\\AppData\\Local\\pip\\Cache\\wheels\\0b\\04\\79\\c3b0c3a0266a3cb4376da31e5bfe8bba0c489246968a68e843\n",
      "Successfully built lark-parser thriftpy2 mongoengine watchdog pathtools\n",
      "Installing collected packages: marshmallow, marshmallow-polyfield, pika, simplejson, pyjwt, argh, pathtools, watchdog, python-box, yapconf, lark-parser, brewtils, thriftpy2, ruamel.yaml, pytz, pymongo, mongoengine, passlib, bg-utils, pyrabbit2, bartender\n",
      "  Found existing installation: pytz 2019.3\n",
      "    Uninstalling pytz-2019.3:\n",
      "      Successfully uninstalled pytz-2019.3\n",
      "Successfully installed argh-0.26.2 bartender-2.4.6 bg-utils-2.4.9 brewtils-2.4.11 lark-parser-0.6.7 marshmallow-2.20.5 marshmallow-polyfield-3.2 mongoengine-0.15.3 passlib-1.7.2 pathtools-0.1.2 pika-1.1.0 pyjwt-1.7.1 pymongo-3.10.0 pyrabbit2-1.0.7 python-box-3.4.6 pytz-2018.9 ruamel.yaml-0.15.100 simplejson-3.17.0 thriftpy2-0.4.10 watchdog-0.9.0 yapconf-0.3.7\n"
     ]
    }
   ],
   "source": [
    "!pip install bartender"
   ]
  },
  {
   "cell_type": "code",
   "execution_count": 3,
   "metadata": {},
   "outputs": [
    {
     "data": {
      "text/plain": [
       "'C:\\\\Users\\\\dhnguyen'"
      ]
     },
     "execution_count": 3,
     "metadata": {},
     "output_type": "execute_result"
    }
   ],
   "source": [
    "import os\n",
    "os.getcwd()"
   ]
  },
  {
   "cell_type": "code",
   "execution_count": null,
   "metadata": {},
   "outputs": [],
   "source": [
    "# def conn_server():\n",
    "conn = pyodbc.connect('DRIVER={ODBC Driver 17 for SQL Server};SERVER=vnmsrv601.dl.net\\Siplace_2008R2EX;DATABASE=MobileDB;UID=Sa;PWD=Siplace.1')\n",
    "#     model ='890003434'\n",
    "st.write(conn,\"Connection OK\")   \n",
    "\n",
    "\n",
    "sql=f\"SELECT top 5 * FROM LabelcodeFruPP\"\n",
    "st.write(sql)\n",
    "df=pd.read_sql(sql,conn)\n",
    "st.write('Kết quả là: ',df)\n"
   ]
  }
 ],
 "metadata": {
  "kernelspec": {
   "display_name": "Python 3",
   "language": "python",
   "name": "python3"
  },
  "language_info": {
   "codemirror_mode": {
    "name": "ipython",
    "version": 3
   },
   "file_extension": ".py",
   "mimetype": "text/x-python",
   "name": "python",
   "nbconvert_exporter": "python",
   "pygments_lexer": "ipython3",
   "version": "3.7.4"
  }
 },
 "nbformat": 4,
 "nbformat_minor": 2
}
