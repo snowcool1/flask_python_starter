{
 "cells": [
  {
   "cell_type": "code",
   "execution_count": 2,
   "metadata": {},
   "outputs": [
    {
     "data": {
      "text/plain": [
       "['KIT,BRACKET,GFS41XX                     52-']"
      ]
     },
     "execution_count": 2,
     "metadata": {},
     "output_type": "execute_result"
    }
   ],
   "source": [
    "\n",
    "import pickle\n",
    "import pandas as pd\n",
    "import numpy as np\n",
    "import copy\n",
    "import time\n",
    "\n",
    "from sklearn.model_selection import train_test_split\n",
    "from sklearn.feature_extraction.text import CountVectorizer,TfidfVectorizer\n",
    "from sklearn.naive_bayes import MultinomialNB\n",
    "from sklearn.naive_bayes import GaussianNB\n",
    "from sklearn.metrics import roc_auc_score\n",
    "import sqlalchemy\n",
    "import pyodbc\n",
    "   \n",
    "def saplinkinfo_multi(material):\n",
    "        \n",
    "        import xml.etree.ElementTree as ET\n",
    "        from urllib.request import urlopen\n",
    "        from xml.etree.ElementTree import parse\n",
    "        import time \n",
    "        import urllib.parse\n",
    "        import asyncio\n",
    "        start=time.time()\n",
    "        \n",
    "        def saplinkinfo_local(material='770112003'):\n",
    "            import xml.etree.ElementTree as ET\n",
    "            from urllib.request import urlopen\n",
    "            from xml.etree.ElementTree import parse\n",
    "            import time \n",
    "            import urllib.parse\n",
    "            start=time.time()\n",
    "        #     material='770112003'\n",
    "            # tree = ET.parse('saplink.xml')\n",
    "            tag=fr'''\n",
    "            <Z_DMS_MATERIAL_INFO>\n",
    "            <LANG>E</LANG>\n",
    "            <WERKS>3400</WERKS>\n",
    "            <VALIDON>12/31/9999</VALIDON>\n",
    "            <MATNR>{material.strip().upper()}</MATNR>\n",
    "            </Z_DMS_MATERIAL_INFO>\n",
    "            '''\n",
    "            encodetag=urllib.parse.quote_plus(tag)\n",
    "\n",
    "            query='http://home/saplink/PRD/default.asp?XDoc='\n",
    "\n",
    "            url =query+encodetag\n",
    "#             print(url)\n",
    "\n",
    "            var_url = urlopen(url)\n",
    "            tree = parse(var_url)\n",
    "\n",
    "            # tree = ET.parse(url)\n",
    "            root = tree.getroot()\n",
    "            root.tag\n",
    "            # for child in root:\n",
    "            #     print(child.tag, child.attrib)\n",
    "\n",
    "            # [elem.tag for elem in root.iter()]\n",
    "            list_des=[]\n",
    "            material_description=\"\"\n",
    "            for description in root.iter('DESCRIPTION'):\n",
    "                material_description=description.text+ material[0:3]\n",
    "        #         print(description.text)\n",
    "                list_des.append(material_description)\n",
    "        #     print(\"run in seconds: %s\" % str(time.time()-start))\n",
    "            return list_des, material\n",
    "        \n",
    "    #     material='770112003'\n",
    "        # tree = ET.parse('saplink.xml')\n",
    "        list_name=[]\n",
    "        for item in range(len(material)):\n",
    "#             print(material[item])\n",
    "            eng_item= (saplinkinfo_local(material[item]))[0]\n",
    "#             print(eng_item)\n",
    "            list_name.append(eng_item[0])\n",
    "        eng_list=list_name\n",
    "        return eng_list\n",
    "df= saplinkinfo_multi(['52-0073-00'])\n",
    "\n",
    "df\n",
    "# print('Print done')   \n",
    "    "
   ]
  },
  {
   "cell_type": "code",
   "execution_count": null,
   "metadata": {},
   "outputs": [],
   "source": []
  }
 ],
 "metadata": {
  "kernelspec": {
   "display_name": "Python 3",
   "language": "python",
   "name": "python3"
  },
  "language_info": {
   "codemirror_mode": {
    "name": "ipython",
    "version": 3
   },
   "file_extension": ".py",
   "mimetype": "text/x-python",
   "name": "python",
   "nbconvert_exporter": "python",
   "pygments_lexer": "ipython3",
   "version": "3.7.4"
  },
  "toc": {
   "base_numbering": 1,
   "nav_menu": {},
   "number_sections": true,
   "sideBar": true,
   "skip_h1_title": false,
   "title_cell": "Table of Contents",
   "title_sidebar": "Contents",
   "toc_cell": false,
   "toc_position": {},
   "toc_section_display": true,
   "toc_window_display": false
  }
 },
 "nbformat": 4,
 "nbformat_minor": 2
}
