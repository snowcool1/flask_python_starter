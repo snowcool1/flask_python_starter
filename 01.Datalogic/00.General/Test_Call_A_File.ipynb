{
 "cells": [
  {
   "cell_type": "code",
   "execution_count": 1,
   "metadata": {},
   "outputs": [
    {
     "name": "stdout",
     "output_type": "stream",
     "text": [
      "I'm a lumberjack, and I'm okay.\n",
      "I sleep all night and I work all day.\n",
      "I'm a lumberjack, and I'm okay.\n",
      "I sleep all night and I work all day.\n",
      "I'm a lumberjack, and I'm okay.\n",
      "I sleep all night and I work all day.\n",
      "(None, None) Toi la nguoi Vietnam\n",
      "Spam\n",
      "Spam\n",
      "<function print_twice at 0x0000013CA8E34318>\n",
      "Meo Meo Gâu Gâu\n",
      "Meo Meo Gâu Gâu\n",
      "<function cat_twice at 0x0000013CA8E50048>\n"
     ]
    }
   ],
   "source": [
    "\n",
    "a = 'Toi la nguoi Vietnam'\n",
    "\n",
    "def repeat_lyrics():\n",
    "    print_lyrics()\n",
    "    print_lyrics()\n",
    "\n",
    "\n",
    "def print_lyrics():\n",
    "    print (\"I'm a lumberjack, and I'm okay.\")\n",
    "    print (\"I sleep all night and I work all day.\")\n",
    "    \n",
    "print ((print_lyrics(),repeat_lyrics()),a)\n",
    "\n",
    "def print_twice(bruce):\n",
    "    print (bruce)\n",
    "    print (bruce)\n",
    "print_twice('Spam')\n",
    "print(print_twice)\n",
    "\n",
    "def cat_twice(part1, part2):\n",
    "     print ('Meo Meo' + ' '+ 'Gâu Gâu')\n",
    "     print('Meo Meo' + ' '+ 'Gâu Gâu')\n",
    "cat_twice('part1', 'part2')\n",
    "print(cat_twice)\n"
   ]
  },
  {
   "cell_type": "code",
   "execution_count": null,
   "metadata": {},
   "outputs": [],
   "source": []
  }
 ],
 "metadata": {
  "kernelspec": {
   "display_name": "Python 3",
   "language": "python",
   "name": "python3"
  },
  "language_info": {
   "codemirror_mode": {
    "name": "ipython",
    "version": 3
   },
   "file_extension": ".py",
   "mimetype": "text/x-python",
   "name": "python",
   "nbconvert_exporter": "python",
   "pygments_lexer": "ipython3",
   "version": "3.7.4"
  }
 },
 "nbformat": 4,
 "nbformat_minor": 2
}
