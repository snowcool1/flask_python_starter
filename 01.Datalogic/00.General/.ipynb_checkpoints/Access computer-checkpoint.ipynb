{
 "cells": [
  {
   "cell_type": "code",
   "execution_count": 5,
   "metadata": {},
   "outputs": [],
   "source": [
    "\n",
    "\n",
    "def grant_access(mylist):\n",
    "    for i  in range(len(mylist)):\n",
    "        print(mylist[i])\n",
    "        try:\n",
    "            command= fr'net use \"\\\\{mylist[i]}\\C$\" stark300 /user:dl\\fixture'\n",
    "            print(command)\n",
    "            !{command}\n",
    "        except:\n",
    "            command= fr'net use \"\\\\{mylist[i]}\\C$\" Prod1234 /user:dl\\production'\n",
    "            print(command)\n",
    "            !{command}\n",
    "        else:\n",
    "#             command= fr'net use \"\\\\{mylist[i]}\\C$\" 6Turtl3$ /user:{mylist[i]}\\Administrator'\n",
    "#             print(command)\n",
    "#             !{command}\n",
    "            pass\n",
    "# def delete_extension_func():\n",
    "#     dir_name = \"D:/16_128_02_ProCamData/2019-12/\"\n",
    "#     test = os.listdir(dir_name)\n",
    "\n",
    "#     for item in test:\n",
    "#         if item.endswith(\".BMP\"):\n",
    "#             os.remove(os.path.join(dir_name, item))\n",
    "\n",
    "# delete_extension_func()"
   ]
  },
  {
   "cell_type": "code",
   "execution_count": 6,
   "metadata": {},
   "outputs": [
    {
     "name": "stdout",
     "output_type": "stream",
     "text": [
      "TRI05465\n",
      "net use \"\\\\TRI05465\\C$\" stark300 /user:dl\\fixture\n",
      "TRI04782\n",
      "net use \"\\\\TRI04782\\C$\" stark300 /user:dl\\fixture\n"
     ]
    },
    {
     "name": "stderr",
     "output_type": "stream",
     "text": [
      "System error 5 has occurred.\n",
      "\n",
      "Access is denied.\n",
      "\n",
      "System error 5 has occurred.\n",
      "\n",
      "Access is denied.\n",
      "\n"
     ]
    }
   ],
   "source": [
    "dspc=['TRI05465', 'TRI04782']\n",
    "grant_access(dspc)"
   ]
  },
  {
   "cell_type": "code",
   "execution_count": null,
   "metadata": {},
   "outputs": [],
   "source": []
  }
 ],
 "metadata": {
  "kernelspec": {
   "display_name": "Python 3",
   "language": "python",
   "name": "python3"
  },
  "language_info": {
   "codemirror_mode": {
    "name": "ipython",
    "version": 3
   },
   "file_extension": ".py",
   "mimetype": "text/x-python",
   "name": "python",
   "nbconvert_exporter": "python",
   "pygments_lexer": "ipython3",
   "version": "3.7.4"
  }
 },
 "nbformat": 4,
 "nbformat_minor": 2
}
