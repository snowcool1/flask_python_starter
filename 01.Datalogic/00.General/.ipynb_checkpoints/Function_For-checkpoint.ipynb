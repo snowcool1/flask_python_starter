{
 "cells": [
  {
   "cell_type": "markdown",
   "metadata": {},
   "source": [
    "Tạo function và gọi function:"
   ]
  },
  {
   "cell_type": "code",
   "execution_count": 1,
   "metadata": {},
   "outputs": [
    {
     "name": "stdout",
     "output_type": "stream",
     "text": [
      "0 :  Doan\n",
      "1 :  Doan\n",
      "2 :  Doan\n",
      "3 :  Doan\n",
      "<function square at 0x0000024D9F6609D8>\n"
     ]
    }
   ],
   "source": [
    "def square(t):\n",
    "    for i in range(4):    \n",
    "        print(i,': ', (t))\n",
    "square('Doan')\n",
    "print(square)"
   ]
  },
  {
   "cell_type": "code",
   "execution_count": 4,
   "metadata": {},
   "outputs": [
    {
     "name": "stdout",
     "output_type": "stream",
     "text": [
      "Connection OK\n"
     ]
    }
   ],
   "source": [
    "import numpy as np\n",
    "import pandas as pd\n",
    "import streamlit as st\n",
    "import urllib.request\n",
    "import shutil\n",
    "import tempfile\n",
    "import altair as alt\n",
    "import pyodbc\n",
    "\n",
    "def conn_server():\n",
    "    conn = pyodbc.connect('DRIVER={ODBC Driver- 17 for SQL Server};SERVER=vnmsrv601.dl.net\\Siplace_2008R2EX;DATABASE=MobileDB;UID=Sa;PWD=Siplace.1')\n",
    "    model ='890003434'\n",
    "    print(\"Connection OK\")   \n",
    "conn_server() \n"
   ]
  },
  {
   "cell_type": "code",
   "execution_count": 10,
   "metadata": {},
   "outputs": [
    {
     "name": "stdout",
     "output_type": "stream",
     "text": [
      "Help on built-in function len in module builtins:\n",
      "\n",
      "len(obj, /)\n",
      "    Return the number of items in a container.\n",
      "\n"
     ]
    }
   ],
   "source": [
    "help(len)"
   ]
  },
  {
   "cell_type": "code",
   "execution_count": 1,
   "metadata": {},
   "outputs": [],
   "source": [
    "!bartend.exe /F=D:\\FRUlabel\\104.btw /P\n",
    "\n",
    "\n"
   ]
  },
  {
   "cell_type": "code",
   "execution_count": null,
   "metadata": {},
   "outputs": [],
   "source": [
    "import numpy as np\n",
    "import pandas as pd\n",
    "import streamlit as st\n",
    "import urllib.request\n",
    "import shutil\n",
    "import tempfile\n",
    "import altair as alt\n",
    "import pyodbc\n",
    "# def conn_server():\n",
    "conn = pyodbc.connect('DRIVER={ODBC Driver 17 for SQL Server};SERVER=vnmsrv601.dl.net\\Siplace_2008R2EX;DATABASE=MobileDB;UID=Sa;PWD=Siplace.1')\n",
    "#     model ='890003434'\n",
    "st.write(conn,\"Connection OK\")   \n",
    "\n",
    "\n",
    "Model_input =st.text_input('Model Input','Input model here !!!')\n",
    "if Model_input != '':\n",
    "    sql=f\"SELECT top 5 * FROM LabelcodeFruPP where Model ='{Model_input}'\"\n",
    "    # st.write(sql)\n",
    "    df=pd.read_sql(sql,conn)\n",
    "    if len(df) > 0:        \n",
    "        st.write(st.subheader('Result as below: '),df)\n",
    "        # Hiển thị Characteristic.\n",
    "        c= df['Characteristic']\n",
    "        st.write(c)\n",
    "    else:\n",
    "        st.write('No data')\n",
    "else:\n",
    "    st.write('Model is not setup')\n",
    "#    \n",
    "    "
   ]
  },
  {
   "cell_type": "code",
   "execution_count": null,
   "metadata": {},
   "outputs": [],
   "source": []
  },
  {
   "cell_type": "code",
   "execution_count": null,
   "metadata": {},
   "outputs": [],
   "source": []
  }
 ],
 "metadata": {
  "kernelspec": {
   "display_name": "Python 3",
   "language": "python",
   "name": "python3"
  },
  "language_info": {
   "codemirror_mode": {
    "name": "ipython",
    "version": 3
   },
   "file_extension": ".py",
   "mimetype": "text/x-python",
   "name": "python",
   "nbconvert_exporter": "python",
   "pygments_lexer": "ipython3",
   "version": "3.7.4"
  }
 },
 "nbformat": 4,
 "nbformat_minor": 2
}
