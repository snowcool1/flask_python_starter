{
 "cells": [
  {
   "cell_type": "code",
   "execution_count": null,
   "metadata": {},
   "outputs": [],
   "source": [
    "\n",
    "#***************************** Batender activate ********\n",
    "def batender_print():\n",
    "    #Change dir to correct app path\n",
    "    rootfolder=\"C:/Program Files (x86)/Seagull/BarTender Suite/BarTender\"\n",
    "    assert os.path.isdir(rootfolder)\n",
    "    os.chdir(rootfolder)\n",
    "\n",
    "    #Prepare path\n",
    "    appname=fr'bartend.exe'\n",
    "    btwfile= fullpath #r\"C:\\FRUlabelPNPC\\500.btw\" # d \\ slash forward for window\n",
    "\n",
    "    #Run All wwith argument\n",
    "    subprocess.Popen([appname,btwfile,\"/P\",\"/X\"])"
   ]
  }
 ],
 "metadata": {
  "kernelspec": {
   "display_name": "Python 3",
   "language": "python",
   "name": "python3"
  },
  "language_info": {
   "codemirror_mode": {
    "name": "ipython",
    "version": 3
   },
   "file_extension": ".py",
   "mimetype": "text/x-python",
   "name": "python",
   "nbconvert_exporter": "python",
   "pygments_lexer": "ipython3",
   "version": "3.7.4"
  }
 },
 "nbformat": 4,
 "nbformat_minor": 4
}
