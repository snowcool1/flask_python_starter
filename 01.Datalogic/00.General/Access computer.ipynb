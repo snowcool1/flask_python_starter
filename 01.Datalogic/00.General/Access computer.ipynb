{
 "cells": [
  {
   "cell_type": "code",
   "execution_count": 2,
   "metadata": {},
   "outputs": [],
   "source": [
    "\n",
    "\n",
    "def grant_access(mylist):\n",
    "    for i  in range(len(mylist)):\n",
    "        print(mylist[i])\n",
    "        try:\n",
    "            command= fr'net use \"\\\\{mylist[i]}\\C$\" stark300 /user:dl\\fixture'\n",
    "            print(command)\n",
    "            !{command}\n",
    "        except:\n",
    "            command= fr'net use \"\\\\{mylist[i]}\\C$\" Prod1234 /user:dl\\production'\n",
    "            print(command)\n",
    "            !{command}\n",
    "        else:\n",
    "#             command= fr'net use \"\\\\{mylist[i]}\\C$\" 6Turtl3$ /user:{mylist[i]}\\Administrator'\n",
    "#             print(command)\n",
    "#             !{command}\n",
    "            pass\n",
    "# def delete_extension_func():\n",
    "#     dir_name = \"D:/16_128_02_ProCamData/2019-12/\"\n",
    "#     test = os.listdir(dir_name)\n",
    "\n",
    "#     for item in test:\n",
    "#         if item.endswith(\".BMP\"):\n",
    "#             os.remove(os.path.join(dir_name, item))\n",
    "\n",
    "# delete_extension_func()"
   ]
  },
  {
   "cell_type": "code",
   "execution_count": 6,
   "metadata": {},
   "outputs": [
    {
     "name": "stdout",
     "output_type": "stream",
     "text": [
      "TRI05465\n",
      "net use \"\\\\TRI05465\\C$\" stark300 /user:dl\\fixture\n",
      "TRI04782\n",
      "net use \"\\\\TRI04782\\C$\" stark300 /user:dl\\fixture\n"
     ]
    },
    {
     "name": "stderr",
     "output_type": "stream",
     "text": [
      "System error 5 has occurred.\n",
      "\n",
      "Access is denied.\n",
      "\n",
      "System error 5 has occurred.\n",
      "\n",
      "Access is denied.\n",
      "\n"
     ]
    }
   ],
   "source": [
    "mylist=['TRI05465', 'TRI04782']\n",
    "grant_access(mylist)"
   ]
  },
  {
   "cell_type": "code",
   "execution_count": 4,
   "metadata": {},
   "outputs": [
    {
     "name": "stdout",
     "output_type": "stream",
     "text": [
      "VNFFCCONFIG27\n",
      "net use \"\\\\VNFFCCONFIG27\\C$\" 6Turtl3$ /user:VNFFCCONFIG27\\Administrator\n",
      "net use \"\\\\VNFFCCONFIG27\\C$\" stark300 /user:dl\\fixture\n"
     ]
    },
    {
     "name": "stderr",
     "output_type": "stream",
     "text": [
      "System error 1219 has occurred.\n",
      "\n",
      "Multiple connections to a server or shared resource by the same user, using more than one user name, are not allowed. Disconnect all previous connections to the server or shared resource and try again.\n",
      "\n"
     ]
    },
    {
     "name": "stdout",
     "output_type": "stream",
     "text": [
      "The command completed successfully.\n",
      "\n",
      "VNFFCCONFIG28\n",
      "net use \"\\\\VNFFCCONFIG28\\C$\" 6Turtl3$ /user:VNFFCCONFIG28\\Administrator\n",
      "net use \"\\\\VNFFCCONFIG28\\C$\" stark300 /user:dl\\fixture\n"
     ]
    },
    {
     "name": "stderr",
     "output_type": "stream",
     "text": [
      "System error 1219 has occurred.\n",
      "\n",
      "Multiple connections to a server or shared resource by the same user, using more than one user name, are not allowed. Disconnect all previous connections to the server or shared resource and try again.\n",
      "\n"
     ]
    },
    {
     "name": "stdout",
     "output_type": "stream",
     "text": [
      "The command completed successfully.\n",
      "\n"
     ]
    }
   ],
   "source": [
    "\n",
    "\n",
    "def grant_access(mylist):\n",
    "    for i  in range(len(mylist)):\n",
    "        print(mylist[i])\n",
    "        try:\n",
    "            command= fr'net use \"\\\\{mylist[i]}\\C$\" 6Turtl3$ /user:{mylist[i]}\\Administrator'\n",
    "            print(command)\n",
    "            !{command}\n",
    "        except:\n",
    "            command= fr'net use \"\\\\{mylist[i]}\\C$\" Prod1234 /user:dl\\production'\n",
    "            print(command)\n",
    "            !{command}\n",
    "        else:\n",
    "            command= fr'net use \"\\\\{mylist[i]}\\C$\" stark300 /user:dl\\fixture'\n",
    "            print(command)\n",
    "            !{command}\n",
    "            pass\n",
    "\n",
    "mylist=['VNFFCCONFIG27', 'VNFFCCONFIG28']\n",
    "grant_access(mylist)"
   ]
  },
  {
   "cell_type": "code",
   "execution_count": null,
   "metadata": {},
   "outputs": [],
   "source": []
  }
 ],
 "metadata": {
  "kernelspec": {
   "display_name": "Python 3",
   "language": "python",
   "name": "python3"
  },
  "language_info": {
   "codemirror_mode": {
    "name": "ipython",
    "version": 3
   },
   "file_extension": ".py",
   "mimetype": "text/x-python",
   "name": "python",
   "nbconvert_exporter": "python",
   "pygments_lexer": "ipython3",
   "version": "3.7.4"
  },
  "toc": {
   "base_numbering": 1,
   "nav_menu": {},
   "number_sections": true,
   "sideBar": true,
   "skip_h1_title": false,
   "title_cell": "Table of Contents",
   "title_sidebar": "Contents",
   "toc_cell": false,
   "toc_position": {},
   "toc_section_display": true,
   "toc_window_display": false
  }
 },
 "nbformat": 4,
 "nbformat_minor": 2
}
