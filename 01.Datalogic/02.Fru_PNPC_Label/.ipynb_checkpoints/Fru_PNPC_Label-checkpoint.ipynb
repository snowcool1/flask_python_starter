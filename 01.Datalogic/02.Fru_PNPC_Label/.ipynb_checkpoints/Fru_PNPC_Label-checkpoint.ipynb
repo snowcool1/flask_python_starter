{
 "cells": [
  {
   "cell_type": "code",
   "execution_count": 11,
   "metadata": {},
   "outputs": [
    {
     "name": "stdout",
     "output_type": "stream",
     "text": [
      "SELECT top 10 * FROM Doan_LabelcodeFruPP where Model = 'xxxxxx'\n",
      "so dong data co  0\n",
      "Empty DataFrame\n",
      "Columns: [Family, Model, Des, Characteristic, PPorBuild, Irregular]\n",
      "Index: []\n",
      "Empty DataFrame\n",
      "Columns: [Family, Model, Des, Characteristic, PPorBuild, Irregular]\n",
      "Index: []\n"
     ]
    }
   ],
   "source": [
    "import pyodbc \n",
    "import numpy as np\n",
    "import pandas as pd\n",
    "\n",
    "def conn_server():\n",
    "    conn = pyodbc.connect('DRIVER={ODBC Driver 17 for SQL Server};SERVER=vnmsrv601.dl.net\\Siplace_2008R2EX;DATABASE=MobileDB;UID=Sa;PWD=Siplace.1')\n",
    "    model ='xxxxxx'\n",
    "\n",
    "    sql=f\"SELECT top 10 * FROM Doan_LabelcodeFruPP where Model = '{model}'\"\n",
    "    print(sql)\n",
    "    df=pd.read_sql(sql,conn)\n",
    "    print('so dong data co ',len(df))\n",
    "    print(df.head())\n",
    "\n",
    "    ten_mota=df\n",
    "    print(ten_mota)\n",
    "conn_server()  "
   ]
  },
  {
   "cell_type": "code",
   "execution_count": 12,
   "metadata": {},
   "outputs": [
    {
     "ename": "NameError",
     "evalue": "name 'tempfile' is not defined",
     "output_type": "error",
     "traceback": [
      "\u001b[1;31m---------------------------------------------------------------------------\u001b[0m",
      "\u001b[1;31mNameError\u001b[0m                                 Traceback (most recent call last)",
      "\u001b[1;32m<ipython-input-12-c1bca4cab4eb>\u001b[0m in \u001b[0;36m<module>\u001b[1;34m\u001b[0m\n\u001b[0;32m      5\u001b[0m \u001b[1;33m\u001b[0m\u001b[0m\n\u001b[0;32m      6\u001b[0m \u001b[1;32mwith\u001b[0m \u001b[0murllib\u001b[0m\u001b[1;33m.\u001b[0m\u001b[0mrequest\u001b[0m\u001b[1;33m.\u001b[0m\u001b[0murlopen\u001b[0m\u001b[1;33m(\u001b[0m\u001b[1;34m'http://localhost:8501'\u001b[0m\u001b[1;33m)\u001b[0m \u001b[1;32mas\u001b[0m \u001b[0mresponse\u001b[0m\u001b[1;33m:\u001b[0m\u001b[1;33m\u001b[0m\u001b[1;33m\u001b[0m\u001b[0m\n\u001b[1;32m----> 7\u001b[1;33m     \u001b[1;32mwith\u001b[0m \u001b[0mtempfile\u001b[0m\u001b[1;33m.\u001b[0m\u001b[0mNamedTemporaryFile\u001b[0m\u001b[1;33m(\u001b[0m\u001b[0mdelete\u001b[0m\u001b[1;33m=\u001b[0m\u001b[1;32mFalse\u001b[0m\u001b[1;33m)\u001b[0m \u001b[1;32mas\u001b[0m \u001b[0mapp\u001b[0m\u001b[1;33m:\u001b[0m\u001b[1;33m\u001b[0m\u001b[1;33m\u001b[0m\u001b[0m\n\u001b[0m\u001b[0;32m      8\u001b[0m         \u001b[0mshutil\u001b[0m\u001b[1;33m.\u001b[0m\u001b[0mcopyfileobj\u001b[0m\u001b[1;33m(\u001b[0m\u001b[0mresponse\u001b[0m\u001b[1;33m,\u001b[0m \u001b[0mapp\u001b[0m\u001b[1;33m)\u001b[0m\u001b[1;33m\u001b[0m\u001b[1;33m\u001b[0m\u001b[0m\n\u001b[0;32m      9\u001b[0m \u001b[1;33m\u001b[0m\u001b[0m\n",
      "\u001b[1;31mNameError\u001b[0m: name 'tempfile' is not defined"
     ]
    }
   ],
   "source": [
    "import streamlit as st\n",
    "import numpy as np\n",
    "import pandas as pd\n",
    "import urllib.request\n",
    "import shutil\n",
    "import tempfile\n",
    "\n",
    "with urllib.request.urlopen('http://localhost:8501') as response:\n",
    "    with tempfile.NamedTemporaryFile(delete=False) as app:\n",
    "        shutil.copyfileobj(response, app)\n",
    "\n",
    "with open(app.py) as html:\n",
    "    pass\n",
    "# print(html)\n",
    "\n",
    "# def connect_to_main_web():\n",
    "#     st.title('Single Box Label Printing ccc')\n",
    "\n",
    "#     st.write(\"Here's our first attempt at using data to create a table:\")\n",
    "#     st.write(pd.DataFrame({\n",
    "#         'first column': [1, 2, 3, 4],\n",
    "#         'second column': [10, 20, 30, 40],\n",
    "#         'thirth column': [100, 200, 300, 400],\n",
    "#     }))\n",
    "\n",
    "#     if st.button('Say hello vvvv'):\n",
    "#         st.write('Why hello there')\n",
    "#     else:\n",
    "#         st.write('Goodbye')\n",
    "        \n",
    "    \n",
    "# connect_to_main_web()"
   ]
  },
  {
   "cell_type": "code",
   "execution_count": null,
   "metadata": {},
   "outputs": [],
   "source": []
  }
 ],
 "metadata": {
  "kernelspec": {
   "display_name": "Python 3",
   "language": "python",
   "name": "python3"
  },
  "language_info": {
   "codemirror_mode": {
    "name": "ipython",
    "version": 3
   },
   "file_extension": ".py",
   "mimetype": "text/x-python",
   "name": "python",
   "nbconvert_exporter": "python",
   "pygments_lexer": "ipython3",
   "version": "3.7.4"
  }
 },
 "nbformat": 4,
 "nbformat_minor": 2
}
