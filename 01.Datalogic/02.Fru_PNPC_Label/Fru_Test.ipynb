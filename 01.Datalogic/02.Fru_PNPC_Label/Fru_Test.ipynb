{
 "cells": [
  {
   "cell_type": "code",
   "execution_count": 11,
   "metadata": {},
   "outputs": [
    {
     "name": "stdout",
     "output_type": "stream",
     "text": [
      "SELECT top 10 * FROM Doan_LabelcodeFruPP where Model = 'xxxxxx'\n",
      "so dong data co  0\n",
      "Empty DataFrame\n",
      "Columns: [Family, Model, Des, Characteristic, PPorBuild, Irregular]\n",
      "Index: []\n",
      "Empty DataFrame\n",
      "Columns: [Family, Model, Des, Characteristic, PPorBuild, Irregular]\n",
      "Index: []\n"
     ]
    }
   ],
   "source": [
    "import pyodbc \n",
    "import numpy as np\n",
    "import pandas as pd\n",
    "\n",
    "def conn_server():\n",
    "    conn = pyodbc.connect('DRIVER={ODBC Driver 17 for SQL Server};SERVER=vnmsrv601.dl.net\\Siplace_2008R2EX;DATABASE=MobileDB;UID=Sa;PWD=Siplace.1')\n",
    "    model ='xxxxxx'\n",
    "\n",
    "    sql=f\"SELECT top 10 * FROM Doan_LabelcodeFruPP where Model = '{model}'\"\n",
    "    print(sql)\n",
    "    df=pd.read_sql(sql,conn)\n",
    "    print('so dong data co ',len(df))\n",
    "    print(df.head())\n",
    "\n",
    "    ten_mota=df\n",
    "    print(ten_mota)\n",
    "conn_server()  "
   ]
  },
  {
   "cell_type": "code",
   "execution_count": 16,
   "metadata": {},
   "outputs": [],
   "source": [
    "import streamlit as st\n",
    "import numpy as np\n",
    "import pandas as pd\n",
    "import urllib.request\n",
    "import shutil\n",
    "import tempfile\n",
    "\n"
   ]
  },
  {
   "cell_type": "code",
   "execution_count": 17,
   "metadata": {},
   "outputs": [],
   "source": [
    "import shutil\n",
    "import tempfile\n",
    "import urllib.request\n",
    "\n",
    "with urllib.request.urlopen('http://python.org/') as response:\n",
    "    with tempfile.NamedTemporaryFile(delete=False) as tmp_file:\n",
    "        shutil.copyfileobj(response, tmp_file)\n",
    "\n",
    "with open(tmp_file.name) as html:\n",
    "    pass"
   ]
  },
  {
   "cell_type": "code",
   "execution_count": null,
   "metadata": {},
   "outputs": [],
   "source": []
  }
 ],
 "metadata": {
  "kernelspec": {
   "display_name": "Python 3",
   "language": "python",
   "name": "python3"
  },
  "language_info": {
   "codemirror_mode": {
    "name": "ipython",
    "version": 3
   },
   "file_extension": ".py",
   "mimetype": "text/x-python",
   "name": "python",
   "nbconvert_exporter": "python",
   "pygments_lexer": "ipython3",
   "version": "3.7.4"
  }
 },
 "nbformat": 4,
 "nbformat_minor": 2
}
