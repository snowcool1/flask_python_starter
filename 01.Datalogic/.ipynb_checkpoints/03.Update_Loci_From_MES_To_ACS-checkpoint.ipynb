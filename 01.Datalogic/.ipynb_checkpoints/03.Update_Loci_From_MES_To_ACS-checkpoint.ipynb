{
 "cells": [
  {
   "cell_type": "markdown",
   "metadata": {},
   "source": [
    "Delete MES Loci & Update Loci when Release MES but use ACS"
   ]
  },
  {
   "cell_type": "code",
   "execution_count": 67,
   "metadata": {},
   "outputs": [
    {
     "name": "stdout",
     "output_type": "stream",
     "text": [
      "             ACS_Serial ORT_Status ORT_Bin             ORT_Start  \\\n",
      "0  SVC14685686                                                     \n",
      "\n",
      "             PSC_Serial        Assembly_ACSSN             SAP_Model  \\\n",
      "0  G18M27916                                   GD4520-BKK1B           \n",
      "\n",
      "   SieveByte  UnitStnByte  LineByte  PlantByte     Next_Station_Name  \\\n",
      "0          0            0         0          0  ACSVNGD45BOX           \n",
      "\n",
      "          Last_Event_Date                                            Test_ID  \\\n",
      "0 2018-11-02 04:40:09.943  11/2/2018 4:39 AM                             ...   \n",
      "\n",
      "                Station             ProdOrder  MESControlled  \n",
      "0  ACSVNGD45BOX          000101176642                      0  \n"
     ]
    }
   ],
   "source": [
    "### Connect server:\n",
    "import numpy as np  # Số\n",
    "import pandas as pd # Data wrangling, Data Frame.\n",
    "import streamlit as st\n",
    "import pyodbc\n",
    "import subprocess\n",
    "import os \n",
    "\n",
    "PO_input = '000' + '101176642'\n",
    "# print('PO là:', PO_input)\n",
    "Model_input = 'GD4520-BKK1B'\n",
    "\n",
    "\n",
    "\n",
    "# Model_input =st.text_input('Model Input','Input model here !!!')\n",
    "#-------------Connection Section-------------------\n",
    "\n",
    "\n",
    "def conn_vnmacsdb():\n",
    "    conn = pyodbc.connect('DRIVER={ODBC Driver 17 for SQL Server};SERVER=vnmacsdb;DATABASE=ACSEEState;UID=reports;PWD=reports')\n",
    "    conn1 = pyodbc.connect('DRIVER={ODBC Driver 17 for SQL Server};SERVER=vnmacsdb;DATABASE=acs ee;UID=reports;PWD=reports')\n",
    "    sql_loci=fr\"SELECT TOP 1 * FROM Loci where ProdOrder ='{PO_input}' and SAP_Model = '{Model_input}'\"\n",
    "#     sql_testlog='SELECT top 10 * FROM testlog order by test_date_time desc'\n",
    "#    sql_del_loci = \"Delete loci where SAP_Model = '{Model_input}' and ProdOrder ='{PO_input}' and  ACS_Serial = PSC_Serial\"\n",
    "    sql_del_loci\n",
    "#     data_loci = pd.read_sql(sql_loci,conn)\n",
    "#     data_testlog=pd.read_sql(sql_testlog,conn1)\n",
    "#     print(sql)\n",
    "#     print(data_loci)\n",
    "#     print(data_testlog)\n",
    "\n",
    "conn_vnmacsdb()\n",
    "\n",
    "#\n"
   ]
  },
  {
   "cell_type": "code",
   "execution_count": 44,
   "metadata": {},
   "outputs": [],
   "source": [
    "    \n"
   ]
  },
  {
   "cell_type": "code",
   "execution_count": null,
   "metadata": {},
   "outputs": [],
   "source": []
  },
  {
   "cell_type": "code",
   "execution_count": null,
   "metadata": {},
   "outputs": [],
   "source": [
    "\n",
    "\n",
    "#SELECT TOP 10 *  FROM ACS EE \n",
    "#SELECT TOP 10 * FROM ACSEEState\n",
    "# SELECT TOP 10 * from loci  where SAP_Model = 'GD4520' and ProdOrder ='000101360954' and  ACS_Serial = PSC_Serial\n",
    "\n",
    "#Step 1: Delete loci where SAP_Model = 'GD4520' and ProdOrder ='000101360954' and  ACS_Serial = PSC_Serial\n",
    "#Step 2: update Loci set MESControlled ='0' where ProdOrder ='000101365423' and SAP_Model = ''\n",
    "#Step 3: update LociB set MESControlled ='0' where ProdOrder ='000101365423' and SAP_Model = ''\n",
    "#Step 4: delete [TFFC_SerialNumbers] where TFFC_ProdOrder ='000101365423' and TFFC_Material =''\n",
    "\n",
    "  \n"
   ]
  }
 ],
 "metadata": {
  "kernelspec": {
   "display_name": "Python 3",
   "language": "python",
   "name": "python3"
  },
  "language_info": {
   "codemirror_mode": {
    "name": "ipython",
    "version": 3
   },
   "file_extension": ".py",
   "mimetype": "text/x-python",
   "name": "python",
   "nbconvert_exporter": "python",
   "pygments_lexer": "ipython3",
   "version": "3.7.4"
  }
 },
 "nbformat": 4,
 "nbformat_minor": 2
}
