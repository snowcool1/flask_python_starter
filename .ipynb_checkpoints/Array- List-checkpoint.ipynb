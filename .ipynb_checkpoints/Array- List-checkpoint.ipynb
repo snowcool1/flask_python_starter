{
 "cells": [
  {
   "cell_type": "code",
   "execution_count": 58,
   "metadata": {},
   "outputs": [
    {
     "name": "stdout",
     "output_type": "stream",
     "text": [
      "In dong 1 string\n",
      "In dong 4: ['This', 'is', 'a', 'string']\n",
      "In dong 5: THIS IS A STRING\n",
      "In dong 6: 1\n",
      "In dong 7: 118\n"
     ]
    }
   ],
   "source": [
    "mystring = 'This is a string'\n",
    "print('In dong 1', mystring[10:])\n",
    "mystring[0]\n",
    "teststring = mystring.split(\" \")\n",
    "test1string = mystring.upper()\n",
    "test2string = mystring.count(\"This is a string\")\n",
    "print('In dong 4:',teststring)\n",
    "print('In dong 5:',test1string)\n",
    "print('In dong 6:',test2string)\n",
    "print('In dong 7:',ord('v'))"
   ]
  },
  {
   "cell_type": "code",
   "execution_count": 26,
   "metadata": {},
   "outputs": [
    {
     "name": "stdout",
     "output_type": "stream",
     "text": [
      "Laura Bodine\n",
      "Inigo Montoya\n",
      "Princess Buttercup\n",
      "Miracle Max\n"
     ]
    }
   ],
   "source": [
    "f = open('/Users/dhnguyen/OneDrive - Datalogic S.p.a/Python/python excercise/names.txt', 'r')\n",
    "print(f.read())"
   ]
  },
  {
   "cell_type": "code",
   "execution_count": 33,
   "metadata": {},
   "outputs": [
    {
     "name": "stdout",
     "output_type": "stream",
     "text": [
      "Laura Bodine\n",
      "\n"
     ]
    }
   ],
   "source": [
    "f = open('/Users/dhnguyen/OneDrive - Datalogic S.p.a/Python/python excercise/names.txt', 'r')\n",
    "print(f.readline(20))"
   ]
  },
  {
   "cell_type": "code",
   "execution_count": 37,
   "metadata": {},
   "outputs": [
    {
     "name": "stdout",
     "output_type": "stream",
     "text": [
      "2019-05-16 22:46:43.517630\n",
      "16 / 5 / 2019\n"
     ]
    }
   ],
   "source": [
    "import datetime\n",
    "x = datetime.datetime.now()\n",
    "print(x)\n",
    "print(x.day,'/',x.month,'/', x.year)"
   ]
  },
  {
   "cell_type": "code",
   "execution_count": 40,
   "metadata": {},
   "outputs": [],
   "source": [
    "f = open('/Users/dhnguyen/OneDrive - Datalogic S.p.a/Python/python excercise/names.txt', 'r')\n",
    "#print(f.read())"
   ]
  },
  {
   "cell_type": "code",
   "execution_count": null,
   "metadata": {},
   "outputs": [],
   "source": []
  }
 ],
 "metadata": {
  "kernelspec": {
   "display_name": "Python 3",
   "language": "python",
   "name": "python3"
  },
  "language_info": {
   "codemirror_mode": {
    "name": "ipython",
    "version": 3
   },
   "file_extension": ".py",
   "mimetype": "text/x-python",
   "name": "python",
   "nbconvert_exporter": "python",
   "pygments_lexer": "ipython3",
   "version": "3.7.3"
  }
 },
 "nbformat": 4,
 "nbformat_minor": 2
}
