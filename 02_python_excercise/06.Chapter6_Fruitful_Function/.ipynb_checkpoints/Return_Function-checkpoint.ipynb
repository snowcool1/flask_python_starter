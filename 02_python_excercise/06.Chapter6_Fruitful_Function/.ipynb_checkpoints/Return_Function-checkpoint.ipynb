{
 "cells": [
  {
   "cell_type": "code",
   "execution_count": null,
   "metadata": {},
   "outputs": [],
   "source": [
    "# import subprocess\n",
    "# #s=subprocess.check_output(['ping','google.com'])\n",
    "# s=subprocess.check_output(['bartend.exe /x', '/F=D:\\FRUlabel\\104.btw /P'])\n",
    "# #subprocess.call('where bartend')\n",
    "# #output = p1.communicate()[0]\n",
    "# print(s)"
   ]
  },
  {
   "cell_type": "code",
   "execution_count": null,
   "metadata": {},
   "outputs": [],
   "source": [
    "\n",
    "\n",
    "# from subprocess import Popen, PIPE\n",
    "\n",
    "# process = Popen(['bartend.exe', '/F=D:\\FRUlabel\\104.btw /P /x'], stdout=PIPE, stderr=PIPE)\n",
    "# stdout, stderr = process.communicate()\n",
    "# print (stdout)"
   ]
  },
  {
   "cell_type": "code",
   "execution_count": 3,
   "metadata": {},
   "outputs": [
    {
     "name": "stderr",
     "output_type": "stream",
     "text": [
      "ERROR: The process \"bartend.exe\" not found.\n"
     ]
    }
   ],
   "source": [
    "!taskkill /IM bartend.exe /F\n",
    "!bartend.exe /x /F=D:\\FRUlabel\\104.btw /P\n",
    "#!taskkill /IM bartend.exe /F"
   ]
  },
  {
   "cell_type": "code",
   "execution_count": 69,
   "metadata": {},
   "outputs": [
    {
     "name": "stdout",
     "output_type": "stream",
     "text": [
      "True\n"
     ]
    }
   ],
   "source": [
    "import numpy as np  # Số\n",
    "import pandas as pd # Data wrangling, Data Frame.\n",
    "import streamlit as st\n",
    "#import urllib.request # \n",
    "#Eimport shutil\n",
    "#import tempfile\n",
    "#import altair as alt\n",
    "import pyodbc\n",
    "#from keyboard import press\n",
    "import os.path\n",
    "from os import path\n",
    "import sys\n",
    "\n",
    "conn = pyodbc.connect('DRIVER={ODBC Driver 17 for SQL Server};SERVER=vnmsrv601.dl.net\\Siplace_2008R2EX;DATABASE=MobileDB;UID=Sa;PWD=Siplace.1')\n",
    "c= '00.btw'\n",
    "btw = os.path.exists(f\"//vnmsrv601/DevelopSoftware/T01-Print Label/FRUlabel/\" + c )\n",
    "print(btw)                  \n",
    "# if (c == btw):\n",
    "#     print('Tên nhãn cho model này là:   ',c)\n",
    "# else:\n",
    "#     print('Chưa có nhãn')"
   ]
  },
  {
   "cell_type": "code",
   "execution_count": 61,
   "metadata": {},
   "outputs": [],
   "source": [
    "conn = pyodbc.connect('DRIVER={ODBC Driver 17 for SQL Server};SERVER=vnmsrv601.dl.net\\Siplace_2008R2EX;DATABASE=MobileDB;UID=Sa;PWD=Siplace.1')\n",
    "try:\n",
    "    f = open(f\"//vnmsrv601/DevelopSoftware/T01-Print Label/FRUlabel/00.btw\",'r')\n",
    "    # Do something with the file\n",
    "except IOError:\n",
    "    print(\"File not accessible\")\n",
    "finally:\n",
    "    f.close()"
   ]
  },
  {
   "cell_type": "code",
   "execution_count": 1,
   "metadata": {},
   "outputs": [],
   "source": [
    "import subprocess\n",
    "import os\n",
    "\n",
    "\n",
    "# subprocess.call([\"taskkill /IM bartend.exe /F\", \"-l\"])\n",
    "# subprocess.call([\"bartend.exe /F=D:\\FRUlabel\\104.btw /P /x\", \"-l\"])\n",
    "\n",
    "# os.system(\"taskkill /IM bartend.exe /F\")  # đã xóa OK.\n",
    "# os.system(\"bartend.exe  /F=D:\\FRUlabel\\104.btw /P /X\")\n",
    "\n",
    "# subprocess.run(shlex.split(\"taskkill /IM bartend.exe /F,  bartend.exe  /F=D:\\FRUlabel\\104.btw /P /X\"))\n",
    "\n",
    "# subprocess.run([\"taskkill /IM bartend.exe /F\", \"- bartend.exe  /F=D:\\FRUlabel\\104.btw /P /X\"], stdout=subprocess.PIPE)"
   ]
  },
  {
   "cell_type": "code",
   "execution_count": 26,
   "metadata": {},
   "outputs": [
    {
     "name": "stdout",
     "output_type": "stream",
     "text": [
      "['a', 'b', 'c', 'd', 'e', 'f']\n",
      "['a', 'b', 'c', 'd', 'e', 'f', '000']\n",
      "['a', 'b', 'c', 'd', 'e', 'f', '000', [1, 2, 3]]\n"
     ]
    }
   ],
   "source": [
    "cheeses = ['Cheddar', 'Edam', 'Gouda']\n",
    "numbers = [17, 123]\n",
    "# print(cheeses[1], numbers)\n",
    "\n",
    "a = [1, 2, 3]\n",
    "b = [1, 2, 3,4, 5, 6]\n",
    "c = a *0\n",
    "t = ['a', 'b', 'c', 'd', 'e', 'f']\n",
    "print (t[:])\n",
    "# for i in c:\n",
    "#     if i is str:\n",
    "#         print(i + b)\n",
    "# for cheese in cheeses:\n",
    "#     print (cheese)\n",
    "t.append('000')\n",
    "print(t)\n",
    "t.append(a)\n",
    "print(t)\n"
   ]
  },
  {
   "cell_type": "code",
   "execution_count": null,
   "metadata": {},
   "outputs": [],
   "source": []
  },
  {
   "cell_type": "code",
   "execution_count": null,
   "metadata": {},
   "outputs": [],
   "source": []
  }
 ],
 "metadata": {
  "kernelspec": {
   "display_name": "Python 3",
   "language": "python",
   "name": "python3"
  },
  "language_info": {
   "codemirror_mode": {
    "name": "ipython",
    "version": 3
   },
   "file_extension": ".py",
   "mimetype": "text/x-python",
   "name": "python",
   "nbconvert_exporter": "python",
   "pygments_lexer": "ipython3",
   "version": "3.7.4"
  }
 },
 "nbformat": 4,
 "nbformat_minor": 2
}
