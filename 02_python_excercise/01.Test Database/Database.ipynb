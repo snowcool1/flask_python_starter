{
 "cells": [
  {
   "cell_type": "code",
   "execution_count": 3,
   "metadata": {
    "scrolled": true
   },
   "outputs": [
    {
     "data": {
      "text/html": [
       "<div>\n",
       "<style scoped>\n",
       "    .dataframe tbody tr th:only-of-type {\n",
       "        vertical-align: middle;\n",
       "    }\n",
       "\n",
       "    .dataframe tbody tr th {\n",
       "        vertical-align: top;\n",
       "    }\n",
       "\n",
       "    .dataframe thead th {\n",
       "        text-align: right;\n",
       "    }\n",
       "</style>\n",
       "<table border=\"1\" class=\"dataframe\">\n",
       "  <thead>\n",
       "    <tr style=\"text-align: right;\">\n",
       "      <th></th>\n",
       "      <th>Color</th>\n",
       "      <th>Shape</th>\n",
       "      <th>Price</th>\n",
       "    </tr>\n",
       "  </thead>\n",
       "  <tbody>\n",
       "    <tr>\n",
       "      <td>0</td>\n",
       "      <td>Green</td>\n",
       "      <td>Rectangle</td>\n",
       "      <td>10</td>\n",
       "    </tr>\n",
       "    <tr>\n",
       "      <td>1</td>\n",
       "      <td>Green</td>\n",
       "      <td>Rectangle</td>\n",
       "      <td>15</td>\n",
       "    </tr>\n",
       "    <tr>\n",
       "      <td>2</td>\n",
       "      <td>Green</td>\n",
       "      <td>Square</td>\n",
       "      <td>5</td>\n",
       "    </tr>\n",
       "  </tbody>\n",
       "</table>\n",
       "</div>"
      ],
      "text/plain": [
       "   Color      Shape  Price\n",
       "0  Green  Rectangle     10\n",
       "1  Green  Rectangle     15\n",
       "2  Green     Square      5"
      ]
     },
     "execution_count": 3,
     "metadata": {},
     "output_type": "execute_result"
    }
   ],
   "source": [
    "\n",
    "from pandas import DataFrame\n",
    "\n",
    "boxes = {'Color': ['Green','Green','Green','Blue','Blue','Red','Red','Red'],\n",
    "         'Shape': ['Rectangle','Rectangle','Square','Rectangle','Square','Square','Square','Rectangle'],\n",
    "         'Price': [10,15,5,5,10,15,15,5]\n",
    "        }\n",
    "\n",
    "df = DataFrame(boxes, columns= ['Color','Shape','Price'])\n",
    "# print (df)\n",
    "\n",
    "df.loc[df['Color'] =='Green']"
   ]
  },
  {
   "cell_type": "code",
   "execution_count": null,
   "metadata": {},
   "outputs": [],
   "source": []
  },
  {
   "cell_type": "code",
   "execution_count": 14,
   "metadata": {},
   "outputs": [
    {
     "name": "stdout",
     "output_type": "stream",
     "text": [
      "PO là: 000101176640\n"
     ]
    },
    {
     "ename": "AttributeError",
     "evalue": "'str' object has no attribute 'loc'",
     "output_type": "error",
     "traceback": [
      "\u001b[1;31m---------------------------------------------------------------------------\u001b[0m",
      "\u001b[1;31mAttributeError\u001b[0m                            Traceback (most recent call last)",
      "\u001b[1;32m<ipython-input-14-f247d37df93e>\u001b[0m in \u001b[0;36m<module>\u001b[1;34m\u001b[0m\n\u001b[0;32m     28\u001b[0m     \u001b[0mprint\u001b[0m\u001b[1;33m(\u001b[0m\u001b[0msql_testlog\u001b[0m\u001b[1;33m.\u001b[0m\u001b[0mloc\u001b[0m\u001b[1;33m[\u001b[0m\u001b[0mfr\u001b[0m\u001b[1;33m[\u001b[0m\u001b[1;34m'ACS_Serial'\u001b[0m\u001b[1;33m]\u001b[0m \u001b[1;33m==\u001b[0m\u001b[1;34m'G20CAQBWQ'\u001b[0m\u001b[1;33m]\u001b[0m\u001b[1;33m)\u001b[0m\u001b[1;33m\u001b[0m\u001b[1;33m\u001b[0m\u001b[0m\n\u001b[0;32m     29\u001b[0m \u001b[1;33m\u001b[0m\u001b[0m\n\u001b[1;32m---> 30\u001b[1;33m \u001b[0mconn_vnmacsdb\u001b[0m\u001b[1;33m(\u001b[0m\u001b[1;33m)\u001b[0m\u001b[1;33m\u001b[0m\u001b[1;33m\u001b[0m\u001b[0m\n\u001b[0m",
      "\u001b[1;32m<ipython-input-14-f247d37df93e>\u001b[0m in \u001b[0;36mconn_vnmacsdb\u001b[1;34m()\u001b[0m\n\u001b[0;32m     26\u001b[0m     \u001b[0mtestlog_view\u001b[0m\u001b[1;33m=\u001b[0m\u001b[0mpd\u001b[0m\u001b[1;33m.\u001b[0m\u001b[0mread_sql\u001b[0m\u001b[1;33m(\u001b[0m\u001b[0msql_testlog\u001b[0m\u001b[1;33m,\u001b[0m\u001b[0mconn1\u001b[0m\u001b[1;33m)\u001b[0m\u001b[1;33m\u001b[0m\u001b[1;33m\u001b[0m\u001b[0m\n\u001b[0;32m     27\u001b[0m \u001b[1;31m#     print(testlog_view)\u001b[0m\u001b[1;33m\u001b[0m\u001b[1;33m\u001b[0m\u001b[1;33m\u001b[0m\u001b[0m\n\u001b[1;32m---> 28\u001b[1;33m     \u001b[0mprint\u001b[0m\u001b[1;33m(\u001b[0m\u001b[0msql_testlog\u001b[0m\u001b[1;33m.\u001b[0m\u001b[0mloc\u001b[0m\u001b[1;33m[\u001b[0m\u001b[0mfr\u001b[0m\u001b[1;33m[\u001b[0m\u001b[1;34m'ACS_Serial'\u001b[0m\u001b[1;33m]\u001b[0m \u001b[1;33m==\u001b[0m\u001b[1;34m'G20CAQBWQ'\u001b[0m\u001b[1;33m]\u001b[0m\u001b[1;33m)\u001b[0m\u001b[1;33m\u001b[0m\u001b[1;33m\u001b[0m\u001b[0m\n\u001b[0m\u001b[0;32m     29\u001b[0m \u001b[1;33m\u001b[0m\u001b[0m\n\u001b[0;32m     30\u001b[0m \u001b[0mconn_vnmacsdb\u001b[0m\u001b[1;33m(\u001b[0m\u001b[1;33m)\u001b[0m\u001b[1;33m\u001b[0m\u001b[1;33m\u001b[0m\u001b[0m\n",
      "\u001b[1;31mAttributeError\u001b[0m: 'str' object has no attribute 'loc'"
     ]
    }
   ],
   "source": [
    "import numpy as np  # Số\n",
    "import pandas as pd # Data wrangling, Data Frame.\n",
    "import streamlit as st\n",
    "import pyodbc\n",
    "import subprocess\n",
    "import os \n",
    "\n",
    "PO_input = '000' + '101176640'\n",
    "print('PO là:', PO_input)\n",
    "Model_input = 'GD4590-BK'\n",
    "MESControlled = '0'\n",
    "\n",
    "\n",
    "\n",
    "# Model_input =st.text_input('Model Input','Input model here !!!')\n",
    "#-------------Connection Section-------------------\n",
    "\n",
    "\n",
    "def conn_vnmacsdb():\n",
    "    conn = pyodbc.connect('DRIVER={ODBC Driver 17 for SQL Server};SERVER=vnmacsdb;DATABASE=ACSEEState;UID=reports;PWD=reports')\n",
    "    conn1 = pyodbc.connect('DRIVER={ODBC Driver 17 for SQL Server};SERVER=vnmacsdb;DATABASE=acs ee;UID=reports;PWD=reports')\n",
    "    cursor = conn.cursor()\n",
    "    cursor_acsee = conn1.cursor()\n",
    "    #     conn_vnmacsdb()\n",
    "    sql_testlog=\"SELECT top 10 * FROM testlog  order by test_date_time desc\"\n",
    "    testlog_view=pd.read_sql(sql_testlog,conn1)\n",
    "#     print(testlog_view)\n",
    "    print(sql_testlog.loc[fr['ACS_Serial'] =='G20CAQBWQ'])\n",
    "    \n",
    "conn_vnmacsdb()    \n"
   ]
  }
 ],
 "metadata": {
  "kernelspec": {
   "display_name": "Python 3",
   "language": "python",
   "name": "python3"
  },
  "language_info": {
   "codemirror_mode": {
    "name": "ipython",
    "version": 3
   },
   "file_extension": ".py",
   "mimetype": "text/x-python",
   "name": "python",
   "nbconvert_exporter": "python",
   "pygments_lexer": "ipython3",
   "version": "3.7.4"
  }
 },
 "nbformat": 4,
 "nbformat_minor": 2
}
