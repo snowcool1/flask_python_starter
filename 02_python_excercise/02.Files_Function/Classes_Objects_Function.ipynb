{
 "cells": [
  {
   "cell_type": "markdown",
   "metadata": {},
   "source": [
    "#1.Files start"
   ]
  },
  {
   "cell_type": "code",
   "execution_count": 71,
   "metadata": {},
   "outputs": [
    {
     "data": {
      "text/plain": [
       "['.ipynb_checkpoints', 'Files_Function.ipynb', 'Test_File_Func.txt']"
      ]
     },
     "execution_count": 71,
     "metadata": {},
     "output_type": "execute_result"
    }
   ],
   "source": [
    "import os\n",
    "\n",
    "myparth = fr\"D:/02.Python/02.python_excercise/02.Files_Function\" #--//Test_File_Func.txt\n",
    "# files = open(myparth,'w', encoding=\"utf-8\")\n",
    "\n",
    "# # p = os.path.exists(myparth)\n",
    "\n",
    "# line1 = \"Ghi thử lần 10mmm,\\n\"\n",
    "# files.write(line1)\n",
    "\n",
    "# line2 = \"Thi thử lân 200mmm.,\\n\"\n",
    "# files.write(line2)\n",
    "\n",
    "# x=527777\n",
    "# files.write(str(x))\n",
    "\n",
    "# files.close()\n",
    "# # print(p)\n",
    "\n",
    "# os.path.isfile(myparth)\n",
    "\n",
    "os.listdir(myparth)"
   ]
  },
  {
   "cell_type": "markdown",
   "metadata": {},
   "source": [
    "#1. Retangle class"
   ]
  },
  {
   "cell_type": "code",
   "execution_count": 89,
   "metadata": {},
   "outputs": [
    {
     "name": "stdout",
     "output_type": "stream",
     "text": [
      "blank\n",
      "(3, 4)\n",
      "center\n",
      "(50, 100)\n",
      "100.0\n",
      "200.0\n",
      "grow\n",
      "150.0\n",
      "300.0\n"
     ]
    }
   ],
   "source": [
    "\"\"\"\n",
    "\n",
    "Code example from Think Python, by Allen B. Downey.\n",
    "Available from http://thinkpython.com\n",
    "\n",
    "Copyright 2012 Allen B. Downey.\n",
    "Distributed under the GNU General Public License at gnu.org/licenses/gpl.html.\n",
    "\n",
    "\"\"\"\n",
    "\n",
    "class Point(object):\n",
    "    \"\"\"Represents a point in 2-D space.\"\"\"\n",
    "\n",
    "\n",
    "def print_point(p):\n",
    "    \"\"\"Print a Point object in human-readable format.\"\"\"\n",
    "    print ('(%g, %g)' % (p.x, p.y))\n",
    "\n",
    "\n",
    "class Rectangle(object):\n",
    "    \"\"\"Represents a rectangle. \n",
    "\n",
    "    attributes: width, height, corner.\n",
    "    \"\"\"\n",
    "\n",
    "\n",
    "def find_center(rect):\n",
    "    \"\"\"Returns a Point at the center of a Rectangle.\"\"\"\n",
    "    p = Point()\n",
    "    p.x = rect.corner.x + rect.width/2.0\n",
    "    p.y = rect.corner.y + rect.height/2.0\n",
    "    return p\n",
    "\n",
    "\n",
    "def grow_rectangle(rect, dwidth, dheight):\n",
    "    \"\"\"Modify the Rectangle by adding to its width and height.\n",
    "\n",
    "    rect: Rectangle object.\n",
    "    dwidth: change in width (can be negative).\n",
    "    dheight: change in height (can be negative).\n",
    "    \"\"\"\n",
    "    rect.width += dwidth\n",
    "    rect.height += dheight\n",
    "\n",
    "\n",
    "def main():\n",
    "    blank = Point()\n",
    "    blank.x = 3\n",
    "    blank.y = 4\n",
    "    print ('blank')\n",
    "    print_point(blank)\n",
    "\n",
    "    box = Rectangle()\n",
    "    box.width = 100.0\n",
    "    box.height = 200.0\n",
    "    box.corner = Point()\n",
    "    box.corner.x = 0.0\n",
    "    box.corner.y = 0.0\n",
    "\n",
    "    center = find_center(box)\n",
    "    print ('center')\n",
    "    print_point(center)\n",
    "\n",
    "    print (box.width)\n",
    "    print (box.height)\n",
    "    print ('grow')\n",
    "    grow_rectangle(box, 50, 100)\n",
    "    print (box.width)\n",
    "    print (box.height)\n",
    "\n",
    "\n",
    "if __name__ == '__main__':\n",
    "    main()\n"
   ]
  },
  {
   "cell_type": "code",
   "execution_count": 94,
   "metadata": {},
   "outputs": [
    {
     "name": "stdout",
     "output_type": "stream",
     "text": [
      "150.0\n",
      "250.0\n"
     ]
    }
   ],
   "source": [
    "class Rectangle(object):\n",
    "    \"\"\"Represents a rectangle. \n",
    "\n",
    "    attributes: width, height, corner.\n",
    "    \"\"\"\n",
    "    box = Rectangle()\n",
    "    box.width = 100.0\n",
    "    box.height = 200.0\n",
    "    box.corner = Point()\n",
    "    box.corner.x = 0.0\n",
    "    box.corner.y = 0.0\n",
    "    box.width = box.width + 50\n",
    "    box.height = box.width + 100\n",
    "    print(box.width)\n",
    "    print(box.height)\n"
   ]
  },
  {
   "cell_type": "code",
   "execution_count": null,
   "metadata": {},
   "outputs": [],
   "source": []
  }
 ],
 "metadata": {
  "kernelspec": {
   "display_name": "Python 3",
   "language": "python",
   "name": "python3"
  },
  "language_info": {
   "codemirror_mode": {
    "name": "ipython",
    "version": 3
   },
   "file_extension": ".py",
   "mimetype": "text/x-python",
   "name": "python",
   "nbconvert_exporter": "python",
   "pygments_lexer": "ipython3",
   "version": "3.7.4"
  },
  "toc": {
   "base_numbering": 1,
   "nav_menu": {},
   "number_sections": true,
   "sideBar": true,
   "skip_h1_title": true,
   "title_cell": "Table of Contents",
   "title_sidebar": "Contents",
   "toc_cell": false,
   "toc_position": {},
   "toc_section_display": true,
   "toc_window_display": true
  }
 },
 "nbformat": 4,
 "nbformat_minor": 2
}
