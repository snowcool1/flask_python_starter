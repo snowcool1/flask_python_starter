{
 "cells": [
  {
   "cell_type": "markdown",
   "metadata": {},
   "source": [
    "# List function"
   ]
  },
  {
   "cell_type": "code",
   "execution_count": 6,
   "metadata": {},
   "outputs": [
    {
     "name": "stdout",
     "output_type": "stream",
     "text": [
      "0\n",
      "1\n",
      "Cheddar Edam Gouda\n"
     ]
    }
   ],
   "source": [
    "cheeses =  ['Cheddar', 'Edam', 'Gouda'] #'Hello world, We will win with corona virus'\n",
    "numbers = [17, 123]\n",
    "empty = []\n",
    "# print (cheeses, numbers, empty)\n",
    "\n",
    "numbers = [17, 123]\n",
    "numbers[0] = 5\n",
    "# print(numbers) \n",
    "\n",
    "'Edam' in cheeses\n",
    "for i in range(len(numbers)):\n",
    "    numbers[i] = numbers[i] * 2\n",
    "    print(i)\n",
    "delimiter =' '\n",
    "t=delimiter.join(cheeses)\n",
    "print(t)"
   ]
  },
  {
   "cell_type": "markdown",
   "metadata": {},
   "source": [
    "# Tuples Function"
   ]
  },
  {
   "cell_type": "code",
   "execution_count": 14,
   "metadata": {},
   "outputs": [
    {
     "name": "stdout",
     "output_type": "stream",
     "text": [
      "0.798417241745364\n",
      "0.487337412859412\n",
      "0.9551744336124051\n",
      "0.013505949712370513\n",
      "0.719102691205666\n",
      "0.9848427726442657\n",
      "0.6145763304015037\n",
      "0.26696100402790557\n",
      "0.3977180182851032\n",
      "0.5829164999643961\n"
     ]
    }
   ],
   "source": [
    "import random\n",
    "for i in range(10):\n",
    "    x = random.random()\n",
    "    print (x)"
   ]
  },
  {
   "cell_type": "markdown",
   "metadata": {},
   "source": [
    "# 3 Test Ev"
   ]
  },
  {
   "cell_type": "code",
   "execution_count": 4,
   "metadata": {},
   "outputs": [
    {
     "name": "stdout",
     "output_type": "stream",
     "text": [
      "['731307200UNT+.btw', '731329700UNT.btw', '731329700UNT1.btw', '731329700UNT2.btw', '731329700UNT3.btw', '731329700UNT==.btw', '731329800BOX+.btw', '731329800BOX.btw', '731329900UNT-.btw', '731329900UNT.btw', '731330000BOX.btw', '731330000BOX11.btw', '731330101BASE+.btw', '731330101BASE.btw', '731330101BASE1.btw', '731330101BASE2.btw', '731330301BASE.btw', '731334500BOX.btw', '731338300UNT.btw', '731338301UNT1.btw', '731338400BOX.btw', '731338401BOX.btw', 'Thumbs.db']\n"
     ]
    }
   ],
   "source": [
    "import os\n",
    "link =  fr\"//vnmacsdb/bformats/GM4500\"\n",
    "\n",
    "for test in link:\n",
    "        test = os.listdir(link)\n",
    "print(test)"
   ]
  },
  {
   "cell_type": "code",
   "execution_count": null,
   "metadata": {},
   "outputs": [],
   "source": []
  }
 ],
 "metadata": {
  "kernelspec": {
   "display_name": "Python 3",
   "language": "python",
   "name": "python3"
  },
  "language_info": {
   "codemirror_mode": {
    "name": "ipython",
    "version": 3
   },
   "file_extension": ".py",
   "mimetype": "text/x-python",
   "name": "python",
   "nbconvert_exporter": "python",
   "pygments_lexer": "ipython3",
   "version": "3.7.4"
  },
  "toc": {
   "base_numbering": 1,
   "nav_menu": {},
   "number_sections": true,
   "sideBar": true,
   "skip_h1_title": false,
   "title_cell": "Table of Contents",
   "title_sidebar": "Contents",
   "toc_cell": false,
   "toc_position": {
    "height": "calc(100% - 180px)",
    "left": "10px",
    "top": "150px",
    "width": "284.444px"
   },
   "toc_section_display": true,
   "toc_window_display": true
  }
 },
 "nbformat": 4,
 "nbformat_minor": 2
}
