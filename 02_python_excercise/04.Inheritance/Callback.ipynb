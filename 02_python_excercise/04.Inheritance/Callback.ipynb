{
 "cells": [
  {
   "cell_type": "markdown",
   "metadata": {},
   "source": [
    "# GUI & Tkinter"
   ]
  },
  {
   "cell_type": "code",
   "execution_count": 20,
   "metadata": {},
   "outputs": [],
   "source": [
    "\n",
    "import tkinter as tk\n",
    "g = Gui()\n",
    "# g.title('Gui')\n",
    "# g.mainloop()\n",
    "\n",
    "button = g.bu(text='Press me.')\n",
    "\n",
    "label = g.la(text='Press the button.')\n",
    "def make_label():\n",
    "    g.la(text='Thank you.')\n",
    "    \n",
    "# make_label()\n",
    "button2 = g.bu(text='No, press me!', command=make_label)\n",
    "root.mainloop()"
   ]
  },
  {
   "cell_type": "code",
   "execution_count": null,
   "metadata": {},
   "outputs": [],
   "source": [
    "import tkinter as tk\n",
    "    \n",
    "g = Gui()\n",
    "g.title('Ha ha ha')\n",
    "\n",
    "def callback1():\n",
    "    g.bu(text='Now press me.', command=callback2)\n",
    "\n",
    "def callback2():\n",
    "    g.bu(text='Nice job.')\n",
    "\n",
    "g.bu(text='Press me.', command=callback1)\n",
    "\n",
    "g.mainloop()"
   ]
  },
  {
   "cell_type": "code",
   "execution_count": 81,
   "metadata": {},
   "outputs": [
    {
     "ename": "TclError",
     "evalue": "can't invoke \"destroy\" command: application has been destroyed",
     "output_type": "error",
     "traceback": [
      "\u001b[1;31m---------------------------------------------------------------------------\u001b[0m",
      "\u001b[1;31mTclError\u001b[0m                                  Traceback (most recent call last)",
      "\u001b[1;32m<ipython-input-81-e22a98b8c18a>\u001b[0m in \u001b[0;36m<module>\u001b[1;34m\u001b[0m\n\u001b[0;32m     38\u001b[0m \u001b[0mbutton1\u001b[0m\u001b[1;33m(\u001b[0m\u001b[1;33m)\u001b[0m\u001b[1;33m\u001b[0m\u001b[1;33m\u001b[0m\u001b[0m\n\u001b[0;32m     39\u001b[0m \u001b[0mwindow\u001b[0m\u001b[1;33m.\u001b[0m\u001b[0mmainloop\u001b[0m\u001b[1;33m(\u001b[0m\u001b[1;33m)\u001b[0m\u001b[1;33m\u001b[0m\u001b[1;33m\u001b[0m\u001b[0m\n\u001b[1;32m---> 40\u001b[1;33m \u001b[0mwindow\u001b[0m\u001b[1;33m.\u001b[0m\u001b[0mdestroy\u001b[0m\u001b[1;33m(\u001b[0m\u001b[1;33m)\u001b[0m\u001b[1;33m\u001b[0m\u001b[1;33m\u001b[0m\u001b[0m\n\u001b[0m",
      "\u001b[1;32mD:\\03_Anaconda3\\lib\\tkinter\\__init__.py\u001b[0m in \u001b[0;36mdestroy\u001b[1;34m(self)\u001b[0m\n\u001b[0;32m   2060\u001b[0m         end the application of this Tcl interpreter.\"\"\"\n\u001b[0;32m   2061\u001b[0m         \u001b[1;32mfor\u001b[0m \u001b[0mc\u001b[0m \u001b[1;32min\u001b[0m \u001b[0mlist\u001b[0m\u001b[1;33m(\u001b[0m\u001b[0mself\u001b[0m\u001b[1;33m.\u001b[0m\u001b[0mchildren\u001b[0m\u001b[1;33m.\u001b[0m\u001b[0mvalues\u001b[0m\u001b[1;33m(\u001b[0m\u001b[1;33m)\u001b[0m\u001b[1;33m)\u001b[0m\u001b[1;33m:\u001b[0m \u001b[0mc\u001b[0m\u001b[1;33m.\u001b[0m\u001b[0mdestroy\u001b[0m\u001b[1;33m(\u001b[0m\u001b[1;33m)\u001b[0m\u001b[1;33m\u001b[0m\u001b[1;33m\u001b[0m\u001b[0m\n\u001b[1;32m-> 2062\u001b[1;33m         \u001b[0mself\u001b[0m\u001b[1;33m.\u001b[0m\u001b[0mtk\u001b[0m\u001b[1;33m.\u001b[0m\u001b[0mcall\u001b[0m\u001b[1;33m(\u001b[0m\u001b[1;34m'destroy'\u001b[0m\u001b[1;33m,\u001b[0m \u001b[0mself\u001b[0m\u001b[1;33m.\u001b[0m\u001b[0m_w\u001b[0m\u001b[1;33m)\u001b[0m\u001b[1;33m\u001b[0m\u001b[1;33m\u001b[0m\u001b[0m\n\u001b[0m\u001b[0;32m   2063\u001b[0m         \u001b[0mMisc\u001b[0m\u001b[1;33m.\u001b[0m\u001b[0mdestroy\u001b[0m\u001b[1;33m(\u001b[0m\u001b[0mself\u001b[0m\u001b[1;33m)\u001b[0m\u001b[1;33m\u001b[0m\u001b[1;33m\u001b[0m\u001b[0m\n\u001b[0;32m   2064\u001b[0m         \u001b[1;32mglobal\u001b[0m \u001b[0m_default_root\u001b[0m\u001b[1;33m\u001b[0m\u001b[1;33m\u001b[0m\u001b[0m\n",
      "\u001b[1;31mTclError\u001b[0m: can't invoke \"destroy\" command: application has been destroyed"
     ]
    }
   ],
   "source": [
    "# from swampy.Gui import *\n",
    "import tkinter as tk\n",
    "    \n",
    "# g = Gui()\n",
    "# tk.title('Ha ha ha')\n",
    "# canvas = tk.ca(width=500, height=500)\n",
    "\n",
    "# label = tk.Label(\n",
    "#     text=\"Hello, Tkinter\",\n",
    "#     foreground=\"white\",  # Set the text color to white\n",
    "#     background=\"black\"  # Set the background color to black\n",
    "# \n",
    "label = tk.Label(\n",
    "    text=\"Hello Khánh Thy, Khánh Đăng\",\n",
    "    fg=\"Red\",\n",
    "    bg=\"Green\",\n",
    "    width=50,\n",
    "    height=50)\n",
    "# def doivitri():\n",
    "#     b\n",
    "\n",
    "greeting = tk.Entry(text=\"Hello, Tkinter\",\n",
    "    foreground=\"Purple\",  # Set the text color to white                    \n",
    "    background=\"Blue\" )# Set the background color to black)\n",
    "\n",
    "def button1():\n",
    "    greetbu = tk.Button(text=\"Hello, Tkinter\", command=callback1,\n",
    "        foreground=\"white\",  # Set the text color to white\n",
    "        background=\"Red\" )# Set the background color to black\n",
    "    greetbu.pack()\n",
    "# canvas.rectangle([[0, 0], [200, 100]],\n",
    "# fill='blue', outline='orange', width=10)\n",
    "\n",
    "\n",
    "# callback1()\n",
    "greeting.pack()\n",
    "label.pack()\n",
    "button1()\n",
    "window.mainloop()\n",
    "window.destroy()\n"
   ]
  },
  {
   "cell_type": "code",
   "execution_count": 83,
   "metadata": {},
   "outputs": [
    {
     "name": "stdout",
     "output_type": "stream",
     "text": [
      "red\n",
      "green\n",
      "blue\n"
     ]
    }
   ],
   "source": [
    "from swampy.Gui import *\n",
    "\n",
    "g = Gui()\n",
    "g.title('')\n",
    "g.la('Select a color:')\n",
    "colors = ['red', 'green', 'blue']\n",
    "mb = g.mb(text=colors[0])\n",
    "\n",
    "def set_color(color):\n",
    "    print (color)\n",
    "    mb.config(text=color)\n",
    "\n",
    "for color in colors:\n",
    "    g.mi(mb, text=color, command=Callable(set_color, color))\n",
    "\n",
    "g.mainloop()"
   ]
  },
  {
   "cell_type": "code",
   "execution_count": null,
   "metadata": {},
   "outputs": [],
   "source": []
  }
 ],
 "metadata": {
  "kernelspec": {
   "display_name": "Python 3",
   "language": "python",
   "name": "python3"
  },
  "language_info": {
   "codemirror_mode": {
    "name": "ipython",
    "version": 3
   },
   "file_extension": ".py",
   "mimetype": "text/x-python",
   "name": "python",
   "nbconvert_exporter": "python",
   "pygments_lexer": "ipython3",
   "version": "3.7.4"
  },
  "toc": {
   "base_numbering": 1,
   "nav_menu": {},
   "number_sections": true,
   "sideBar": true,
   "skip_h1_title": false,
   "title_cell": "Table of Contents",
   "title_sidebar": "Contents",
   "toc_cell": false,
   "toc_position": {
    "height": "calc(100% - 180px)",
    "left": "10px",
    "top": "150px",
    "width": "256px"
   },
   "toc_section_display": true,
   "toc_window_display": true
  }
 },
 "nbformat": 4,
 "nbformat_minor": 2
}
