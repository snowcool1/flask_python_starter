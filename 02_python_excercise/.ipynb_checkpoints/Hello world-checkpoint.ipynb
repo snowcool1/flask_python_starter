{
 "cells": [
  {
   "cell_type": "code",
   "execution_count": 1,
   "metadata": {},
   "outputs": [
    {
     "name": "stdout",
     "output_type": "stream",
     "text": [
      "Hello World\n"
     ]
    }
   ],
   "source": [
    "print (\"Hello World\")\n"
   ]
  },
  {
   "cell_type": "code",
   "execution_count": 3,
   "metadata": {},
   "outputs": [],
   "source": [
    "\n",
    "def func1():\n",
    "    print(\"I am a funtion\")\n",
    "    func1()\n",
    "    print(func1())\n",
    "    print(func1)\n",
    "    \n",
    "    "
   ]
  },
  {
   "cell_type": "code",
   "execution_count": 4,
   "metadata": {},
   "outputs": [],
   "source": [
    "f=0\n",
    "def someFunction():\n",
    "    global f\n",
    "    f=\"def\"\n",
    "    print(f)    \n",
    "    \n",
    "    someFunction()\n",
    "    print(f)\n",
    "  "
   ]
  },
  {
   "cell_type": "raw",
   "metadata": {},
   "source": []
  },
  {
   "cell_type": "code",
   "execution_count": 6,
   "metadata": {},
   "outputs": [],
   "source": [
    "def Func2(arg1, arg2):\n",
    "    print(arg1, arg2)\n",
    "    print(arg1,\" \", arg2)    \n",
    "    Func2(10,20)    \n",
    "    print(Func2())\n",
    "    print(Func2)\n",
    "    \n",
    "    "
   ]
  },
  {
   "cell_type": "code",
   "execution_count": 8,
   "metadata": {},
   "outputs": [
    {
     "ename": "SyntaxError",
     "evalue": "invalid syntax (<ipython-input-8-721fa540634c>, line 9)",
     "output_type": "error",
     "traceback": [
      "\u001b[1;36m  File \u001b[1;32m\"<ipython-input-8-721fa540634c>\"\u001b[1;36m, line \u001b[1;32m9\u001b[0m\n\u001b[1;33m    else(x>y):\u001b[0m\n\u001b[1;37m        ^\u001b[0m\n\u001b[1;31mSyntaxError\u001b[0m\u001b[1;31m:\u001b[0m invalid syntax\n"
     ]
    }
   ],
   "source": [
    "def main():\n",
    "    x, y =10,20\n",
    "    # conditional flow uses if, elseif, else\n",
    "    \n",
    "    if(x<y):\n",
    "        st=\"x is less than y\"\n",
    "    elif(x==y):\n",
    "        st=\"x is same as y\"\n",
    "    else:\n",
    "        st=\"x is greater than y\"\n",
    "        \n",
    "        print(st)\n",
    "        "
   ]
  },
  {
   "cell_type": "code",
   "execution_count": null,
   "metadata": {},
   "outputs": [],
   "source": []
  }
 ],
 "metadata": {
  "kernelspec": {
   "display_name": "Python 3",
   "language": "python",
   "name": "python3"
  }
 },
 "nbformat": 4,
 "nbformat_minor": 2
}
