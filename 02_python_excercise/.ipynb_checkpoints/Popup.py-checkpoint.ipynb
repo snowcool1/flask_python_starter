{
 "cells": [
  {
   "cell_type": "code",
   "execution_count": null,
   "metadata": {},
   "outputs": [],
   "source": [
    "\n",
    "\n",
    "import sys\n",
    "\n",
    "from swampy.Gui import Gui\n",
    "\n",
    "class Popup(Gui):\n",
    "    \"\"\"Creates a top-level window with a message.\"\"\"\n",
    "\n",
    "    def __init__(self, message, sender):\n",
    "        Gui.__init__(self)\n",
    "        self.title('Popup')\n",
    "        self.la(text='From: %s' % sender)\n",
    "        self.la(text=message)\n",
    "        self.bu(text='Close', command=self.destroy)\n",
    "        self.mainloop()\n",
    "\n",
    "\n",
    "def main(script, message='default message', sender='unknown', *args):\n",
    "    Popup(message, sender)\n",
    "\n",
    "\n",
    "if __name__ == '__main__':\n",
    "    main(*sys.argv)\n",
    "    \n",
    "Popup(Gui)"
   ]
  }
 ],
 "metadata": {
  "kernelspec": {
   "display_name": "Python 3",
   "language": "python",
   "name": "python3"
  },
  "language_info": {
   "codemirror_mode": {
    "name": "ipython",
    "version": 3
   },
   "file_extension": ".py",
   "mimetype": "text/x-python",
   "name": "python",
   "nbconvert_exporter": "python",
   "pygments_lexer": "ipython3",
   "version": "3.7.4"
  },
  "toc": {
   "base_numbering": 1,
   "nav_menu": {},
   "number_sections": true,
   "sideBar": true,
   "skip_h1_title": false,
   "title_cell": "Table of Contents",
   "title_sidebar": "Contents",
   "toc_cell": false,
   "toc_position": {},
   "toc_section_display": true,
   "toc_window_display": false
  }
 },
 "nbformat": 4,
 "nbformat_minor": 2
}
