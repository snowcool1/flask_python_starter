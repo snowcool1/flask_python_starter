{
 "cells": [
  {
   "cell_type": "code",
   "execution_count": null,
   "metadata": {},
   "outputs": [
    {
     "name": "stdout",
     "output_type": "stream",
     "text": [
      "Bài 4: interface design \n",
      "\n",
      "<swampy.TurtleWorld.Turtle object at 0x0000023C2BA67F28>\n"
     ]
    }
   ],
   "source": [
    "import math\n",
    "import time\n",
    "import sys\n",
    "from swampy.TurtleWorld import *\n",
    "from TurtleWorld import *\n",
    "import tkinter\n",
    "import swampy\n",
    "from swampy.AmoebaWorld import AmoebaWorld, Amoeba\n",
    "\n",
    "\n",
    "\n",
    "print('Bài 4: interface design \\n' )\n",
    "from swampy.TurtleWorld import *\n",
    "world = TurtleWorld()\n",
    "bob = Turtle()\n",
    "print (bob)\n",
    "wait_for_user()\n"
   ]
  },
  {
   "cell_type": "code",
   "execution_count": null,
   "metadata": {},
   "outputs": [],
   "source": []
  }
 ],
 "metadata": {
  "kernelspec": {
   "display_name": "Python 3",
   "language": "python",
   "name": "python3"
  },
  "language_info": {
   "codemirror_mode": {
    "name": "ipython",
    "version": 3
   },
   "file_extension": ".py",
   "mimetype": "text/x-python",
   "name": "python",
   "nbconvert_exporter": "python",
   "pygments_lexer": "ipython3",
   "version": "3.7.3"
  }
 },
 "nbformat": 4,
 "nbformat_minor": 2
}
