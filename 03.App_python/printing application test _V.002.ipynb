{
 "cells": [
  {
   "cell_type": "code",
   "execution_count": null,
   "metadata": {
    "scrolled": true
   },
   "outputs": [],
   "source": []
  },
  {
   "cell_type": "code",
   "execution_count": null,
   "metadata": {},
   "outputs": [],
   "source": []
  },
  {
   "cell_type": "code",
   "execution_count": 10,
   "metadata": {},
   "outputs": [
    {
     "data": {
      "text/plain": [
       "'C:\\\\FRUlabelPNPC'"
      ]
     },
     "execution_count": 10,
     "metadata": {},
     "output_type": "execute_result"
    }
   ],
   "source": [
    "import os\n",
    "import shutil\n",
    "\n",
    "\n",
    "shutil.copytree('D:\\FRUlabel', 'C:\\FRUlabelPNPC')\n",
    "# shutil.copytree('baz', 'foo', dirs_exist_ok=True)\n"
   ]
  },
  {
   "cell_type": "code",
   "execution_count": 25,
   "metadata": {},
   "outputs": [
    {
     "data": {
      "text/plain": [
       "False"
      ]
     },
     "execution_count": 25,
     "metadata": {},
     "output_type": "execute_result"
    }
   ],
   "source": [
    "os.path.isfile('//vnmacsdb/bformats/FRUlabelPNPC/None.btw')"
   ]
  },
  {
   "cell_type": "code",
   "execution_count": 32,
   "metadata": {},
   "outputs": [
    {
     "data": {
      "text/plain": [
       "True"
      ]
     },
     "execution_count": 32,
     "metadata": {},
     "output_type": "execute_result"
    }
   ],
   "source": [
    "os.path.exists('//vnmacsdb/bformats/FRUlabelPNPC/')"
   ]
  },
  {
   "cell_type": "code",
   "execution_count": null,
   "metadata": {},
   "outputs": [],
   "source": []
  },
  {
   "cell_type": "code",
   "execution_count": 3,
   "metadata": {},
   "outputs": [
    {
     "name": "stdout",
     "output_type": "stream",
     "text": [
      "Result as below:              Family                           Model  \\\n",
      "0  FRU-MGL32/33     890003434                        \n",
      "\n",
      "                                                 Des Characteristic PPorBuild  \\\n",
      "0  PART,LOAD CELL MOUNT,MGL93/94                 ...      None          PP      \n",
      "\n",
      "  Irregular  \n",
      "0      None  \n",
      "None.btw\n",
      "True\n",
      "Xóa thư mục có sẵn\n",
      "Xóa thư mục có sẵn\n",
      "Xóa thư mục có sẵn\n",
      "Xóa thư mục có sẵn\n",
      "Xóa thư mục có sẵn\n",
      "Xóa thư mục có sẵn\n",
      "Xóa thư mục có sẵn\n",
      "Xóa thư mục có sẵn\n",
      "Xóa thư mục có sẵn\n",
      "Xóa thư mục có sẵn\n",
      "Xóa thư mục có sẵn\n",
      "Xóa thư mục có sẵn\n",
      "Xóa thư mục có sẵn\n",
      "Xóa thư mục có sẵn\n",
      "Xóa thư mục có sẵn\n",
      "Xóa thư mục có sẵn\n",
      "Xóa thư mục có sẵn\n",
      "Xóa thư mục có sẵn\n",
      "Xóa thư mục có sẵn\n",
      "Xóa thư mục có sẵn\n",
      "Xóa thư mục có sẵn\n",
      "Xóa thư mục có sẵn\n",
      "Xóa thư mục có sẵn\n",
      "Xóa thư mục có sẵn\n",
      "Xóa thư mục có sẵn\n",
      "Xóa thư mục có sẵn\n",
      "Xóa thư mục có sẵn\n",
      "Xóa thư mục có sẵn\n",
      "Xóa thư mục có sẵn\n",
      "Xóa thư mục có sẵn\n",
      "Xóa thư mục có sẵn\n",
      "Xóa thư mục có sẵn\n",
      "Xóa thư mục có sẵn\n",
      "Xóa thư mục có sẵn\n",
      "Xóa thư mục có sẵn\n",
      "in nhé\n"
     ]
    }
   ],
   "source": [
    "import numpy as np  # Số\n",
    "import pandas as pd # Data wrangling, Data Frame.\n",
    "import streamlit as st\n",
    "import pyodbc\n",
    "import subprocess\n",
    "import os \n",
    "from subprocess import Popen\n",
    "import shutil\n",
    "\n",
    "\n",
    "# testlabel =\"300.btw\"\n",
    "\n",
    "Model_input = '890003434'\n",
    "\n",
    "#-------------Connection Section-------------------\n",
    "\n",
    "\n",
    "# def conn_server():\n",
    "conn = pyodbc.connect('DRIVER={ODBC Driver 17 for SQL Server};SERVER=vnmsrv601.dl.net\\Siplace_2008R2EX;DATABASE=MobileDB;UID=Sa;PWD=Siplace.1')\n",
    "sql=f\"SELECT top 5 * FROM LabelcodeFruPP where Model ='{Model_input}'\"\n",
    "#print(sql)\n",
    "df=pd.read_sql(sql,conn)\n",
    "#     model ='890003434'\n",
    "#print(conn,\"Connection OK\")   \n",
    "\n",
    "if Model_input != '':\n",
    "    if  len(df) > 0:        \n",
    "        print('Result as below: ',df)               \n",
    "    else:\n",
    "        print('Model is not setup')\n",
    "else:\n",
    "    print('Please input model here !!!')\n",
    "\n",
    "    \n",
    "# ----------- Showing Characteristic----------------------\n",
    "# c= '111' + '.btw'\n",
    "Label_name= df.loc [0, 'Characteristic'] \n",
    "c=str(Label_name + '.btw')\n",
    "c=c.replace(\" \",\"\")\n",
    "print(c)\n",
    "btw = os.path.isfile(f\"//vnmsrv601/DevelopSoftware/T01-Print Label/FRUlabel/\" + c)\n",
    "print(btw)\n",
    "\n",
    "#Change dir to correct app path\n",
    "rootfolder=\"C:/Program Files (x86)/Seagull/BarTender Suite/BarTender\"\n",
    "assert os.path.isdir(rootfolder)\n",
    "os.chdir(rootfolder)\n",
    "#Prepare path\n",
    "appname=fr'bartend.exe'\n",
    "btwfile=fr\"C:\\FRUlabelPNPC\\ + {c}\"  ##d \\ slash forward for window\n",
    "\n",
    "if (btw == True):\n",
    "    #Run All wwith argument\n",
    "    subprocess.Popen([appname,btwfile,\"/P\",\"/X\"])\n",
    "#     print('In nhé')        \n",
    "    # path = r\"//vnmacsdb/bformats/FRUlabelPNPC/\"\n",
    "    \n",
    "    # print(dirs)\n",
    "    path = r\"C:\\FRUlabelPNPC\" \n",
    "    dirs = os.listdir(path)\n",
    "\n",
    "    for label in dirs:\n",
    "    #     print(label) \n",
    "\n",
    "        if label != c:\n",
    "            if os.path.exists(r\"C:\\FRUlabelPNPC\" == True):\n",
    "                shutil.rmtree(r\"C:\\FRUlabelPNPC\", ignore_errors=True)\n",
    "                shutil.copytree('D:\\FRUlabelPNPC', 'C:\\FRUlabelPNPC')\n",
    "                print('Xóa thư mục có sẵn')\n",
    "    #             break\n",
    "            else:\n",
    "                shutil.copytree('D:\\FRUlabelPNPC', 'C:\\FRUlabelPNPC')\n",
    "                print('copy from server')\n",
    "            #     print(dirs)\n",
    "        else:\n",
    "            print(\"in nhé\")\n",
    "            break\n",
    "\n",
    "    \n",
    "else:\n",
    "    print('The label is not setup')\n",
    " \n",
    "    \n",
    "    \n",
    "    \n",
    "    \n",
    "    \n",
    "#     ***********************************************************************\n",
    "    \n",
    "# # path = r\"//vnmacsdb/bformats/FRUlabelPNPC/\"\n",
    "# path = r\"C:\\FRUlabelPNPC\" \n",
    "# dirs = os.listdir(path)\n",
    "\n",
    "# # print(dirs)\n",
    "\n",
    "# for label in dirs:\n",
    "# #     print(label) \n",
    "    \n",
    "#     if label != testlabel:\n",
    "#         if os.path.exists(r\"C:\\FRUlabelPNPC\" == True):\n",
    "#             shutil.rmtree(r\"C:\\FRUlabelPNPC\", ignore_errors=True)\n",
    "#             shutil.copytree('D:\\FRUlabelPNPC', 'C:\\FRUlabelPNPC')\n",
    "#             print('Xóa thư mục có sẵn')\n",
    "# #             break\n",
    "#         else:\n",
    "#             shutil.copytree('D:\\FRUlabelPNPC', 'C:\\FRUlabelPNPC')\n",
    "#             print('copy from server')\n",
    "#         #     print(dirs)\n",
    "#     else:\n",
    "#         print(\"in nhé\")\n",
    "#         break\n",
    "\n"
   ]
  },
  {
   "cell_type": "code",
   "execution_count": null,
   "metadata": {},
   "outputs": [],
   "source": []
  },
  {
   "cell_type": "code",
   "execution_count": 101,
   "metadata": {},
   "outputs": [
    {
     "data": {
      "text/plain": [
       "False"
      ]
     },
     "execution_count": 101,
     "metadata": {},
     "output_type": "execute_result"
    }
   ],
   "source": [
    "import os\n",
    "import shutil\n",
    "import os\n",
    "import shutil\n",
    "import os.path\n",
    "\n",
    "# # define the name of the directory to be created\n",
    "# lb = \"00.btw\"\n",
    "# path = f\"C:/FRUlabelPNPC\"\n",
    "# if os.path.isfile('{lb}'):\n",
    "#     print('in nhé')\n",
    "# else:\n",
    "#     shutil.copytree('\\\\\\vnmacsdb\\bformats\\FRUlabelPNPC', 'C:\\FRUlabelPNPC')\n",
    "#     print('copy rồi, in nhé')\n",
    "\n",
    "# # try:\n",
    "# #     os.mkdir(path)\n",
    "# # except OSError:\n",
    "# #     print (\"Creation of the directory %s failed\" % path)\n",
    "# # else:\n",
    "# #     print (\"Successfully created the directory %s \" % path)\n",
    "    \n",
    "    \n",
    "# # src= r'D:\\FRUlabel'\n",
    "# # dst = r'C:\\FRUlabelPNPC'\n",
    "# os.path.exists(r\"C:\\FRUlabelPNPC\")"
   ]
  },
  {
   "cell_type": "code",
   "execution_count": 47,
   "metadata": {},
   "outputs": [
    {
     "name": "stdout",
     "output_type": "stream",
     "text": [
      "Có folder\n",
      "File C:\\FRUlabelPNPC\\00.btw exist\n"
     ]
    }
   ],
   "source": [
    "#Check folder exist, if not create \n",
    "if check_folderexist():\n",
    "    print('Có folder')\n",
    "    \n",
    "else:\n",
    "    create_folder()\n",
    "    print('Tạo folder')\n",
    "    \n",
    "#check file exist\n",
    "\n"
   ]
  },
  {
   "cell_type": "code",
   "execution_count": 4,
   "metadata": {},
   "outputs": [
    {
     "name": "stdout",
     "output_type": "stream",
     "text": [
      "File C:\\FRUlabelPNPC\\50.btw exist\n"
     ]
    }
   ],
   "source": [
    "#Đã ổn rồi\n",
    "\n",
    "import os\n",
    "import shutil\n",
    "import os.path\n",
    "import subprocess \n",
    "from subprocess import Popen\n",
    "\n",
    "#***************************** Batender activate ********\n",
    "# def batender_print():\n",
    "#     #Change dir to correct app path\n",
    "#     rootfolder=\"C:/Program Files (x86)/Seagull/BarTender Suite/BarTender\"\n",
    "#     assert os.path.isdir(rootfolder)\n",
    "#     os.chdir(rootfolder)\n",
    "\n",
    "#     #Prepare path\n",
    "#     appname=fr'bartend.exe'\n",
    "#     btwfile= fullpath #r\"C:\\FRUlabelPNPC\\500.btw\" # d \\ slash forward for window\n",
    "\n",
    "#     #Run All wwith argument\n",
    "#     subprocess.Popen([appname,btwfile,\"/P\",\"/X\"])\n",
    "\n",
    "#***************************** Check Folder & create Folder********\n",
    "# testlabel =\"300.btw\"\n",
    "# path = r\"//vnmacsdb/bformats/FRUlabelPNPC/\"\n",
    "\n",
    "filepath = r'C:\\FRUlabelPNPC'\n",
    "filename = '50.btw'\n",
    "# path = r\"C:\\FRUlabelPNPC\" \n",
    "\n",
    "# print(dirs)\n",
    "\n",
    "def check_folderexist(filepath):   #path=\"C:\\FRUlabelPNPC\"\n",
    "    if os.path.exists(fr\"{filepath}\"):  #path\n",
    "        return True\n",
    "    \n",
    "    else:\n",
    "        return False\n",
    "    \n",
    "def create_folder():       #Lưu ý đổi local source to server.\n",
    "    shutil.copytree('D:\\FRUlabelPNPC', 'C:\\FRUlabelPNPC')\n",
    "\n",
    "    \n",
    "def check_fileexist(filepath,filename):    \n",
    "    fullpath=os.path.join(filepath, filename)\n",
    "    if os.path.isfile(fullpath):\n",
    "#         batender_print()\n",
    "        print (f\"File {fullpath} exist\")\n",
    "        \n",
    "        \n",
    "    else:\n",
    "        print (\"Copy from server to local\")\n",
    "        shutil.rmtree(r\"C:\\FRUlabelPNPC\", ignore_errors=True)\n",
    "        print('Xóa thư mục có sẵn')\n",
    "        shutil.copytree('D:\\FRUlabelPNPC', 'C:\\FRUlabelPNPC')\n",
    "        print('In sau khi update') \n",
    "        \n",
    "        \n",
    "if check_folderexist(True):\n",
    "    check_fileexist()\n",
    "else:\n",
    "    shutil.rmtree(r\"C:\\FRUlabelPNPC\", ignore_errors=True)\n",
    "    shutil.copytree('D:\\FRUlabelPNPC', 'C:\\FRUlabelPNPC')\n",
    "\n",
    "dirs = os.listdir(filepath)\n",
    "for file in dirs:\n",
    "#     print(file)\n",
    "    if check_fileexist(filepath,filename):        \n",
    "        print ('in nhé')\n",
    "        \n",
    "    else:\n",
    "        check_folderexist(filepath)\n",
    "        break\n",
    "        \n",
    "\n",
    "\n",
    "\n",
    "    \n",
    "# for label in dirs:\n",
    "# #     print(label)     \n",
    "#     if label == testlabel:\n",
    "#         if check_folderexist():\n",
    "# #             print(os.path.exists(r\"C:\\FRUlabelPNPC\"))\n",
    "# # #             shutil.rmtree(r\"C:\\FRUlabelPNPC\", ignore_errors=True)\n",
    "# #             print('Xóa thư mục có sẵn')\n",
    "# #             shutil.copytree('D:\\FRUlabelPNPC', 'C:\\FRUlabelPNPC')\n",
    "# #             print('In sau khi update') \n",
    "#             print(\"in nhé\")\n",
    "#             break\n",
    "#         else:\n",
    "#             shutil.copytree('D:\\FRUlabelPNPC', 'C:\\FRUlabelPNPC')\n",
    "#             print('copy from server')\n",
    "#         #     print(dirs)\n",
    "#     else:\n",
    "#         shutil.rmtree(r\"C:\\FRUlabelPNPC\", ignore_errors=True)\n",
    "#         print('Xóa thư mục có sẵn')\n",
    "#         shutil.copytree('D:\\FRUlabelPNPC', 'C:\\FRUlabelPNPC')\n",
    "#         print('In sau khi update') \n",
    "# #         print(\"in nhé\")\n",
    "        \n"
   ]
  },
  {
   "cell_type": "code",
   "execution_count": 28,
   "metadata": {},
   "outputs": [
    {
     "name": "stdout",
     "output_type": "stream",
     "text": [
      "False\n"
     ]
    }
   ],
   "source": [
    "print(os.path.exists(r\"C:\\FRUlabelPNPC\"))"
   ]
  },
  {
   "cell_type": "code",
   "execution_count": 79,
   "metadata": {},
   "outputs": [
    {
     "data": {
      "text/plain": [
       "<subprocess.Popen at 0x1d450d9c848>"
      ]
     },
     "execution_count": 79,
     "metadata": {},
     "output_type": "execute_result"
    }
   ],
   "source": [
    "import subprocess\n",
    "import os \n",
    "from subprocess import Popen\n",
    " \n",
    "#Change dir to correct app path\n",
    "rootfolder=\"C:/Program Files (x86)/Seagull/BarTender Suite/BarTender\"\n",
    "assert os.path.isdir(rootfolder)\n",
    "os.chdir(rootfolder)\n",
    " \n",
    "#Prepare path\n",
    "appname=fr'bartend.exe'\n",
    "btwfile=r\"C:\\FRUlabelPNPC\\500.btw\" # d \\ slash forward for window\n",
    " \n",
    "#Run All wwith argument\n",
    "subprocess.Popen([appname,btwfile,\"/P\",\"/X\"])\n"
   ]
  },
  {
   "cell_type": "code",
   "execution_count": null,
   "metadata": {},
   "outputs": [],
   "source": []
  }
 ],
 "metadata": {
  "kernelspec": {
   "display_name": "Python 3",
   "language": "python",
   "name": "python3"
  },
  "language_info": {
   "codemirror_mode": {
    "name": "ipython",
    "version": 3
   },
   "file_extension": ".py",
   "mimetype": "text/x-python",
   "name": "python",
   "nbconvert_exporter": "python",
   "pygments_lexer": "ipython3",
   "version": "3.7.4"
  }
 },
 "nbformat": 4,
 "nbformat_minor": 2
}
